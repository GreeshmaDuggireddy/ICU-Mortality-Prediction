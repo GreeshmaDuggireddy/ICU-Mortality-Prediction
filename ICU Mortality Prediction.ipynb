{
 "cells": [
  {
   "cell_type": "markdown",
   "id": "245dc5ae",
   "metadata": {},
   "source": [
    "# **ICU MORTALITY PREDICTION**\n",
    "### Project done by: \n",
    "### Lakshmi Soujanya Kota (lkota)\n",
    "### Greeshma Sai Sree Duggireddy (grdugg)\n",
    "### Amrutha Tejaswini Manikonda (amanikon)"
   ]
  },
  {
   "cell_type": "markdown",
   "id": "973475d6",
   "metadata": {},
   "source": [
    "# Data Preprocessing"
   ]
  },
  {
   "cell_type": "code",
   "execution_count": 1,
   "id": "09cc43e5",
   "metadata": {},
   "outputs": [],
   "source": [
    "import pandas as pd \n",
    "import numpy as np"
   ]
  },
  {
   "cell_type": "code",
   "execution_count": 2,
   "id": "9f97445e",
   "metadata": {},
   "outputs": [
    {
     "name": "stdout",
     "output_type": "stream",
     "text": [
      "(91713, 186)\n",
      "<class 'pandas.core.frame.DataFrame'>\n",
      "RangeIndex: 91713 entries, 0 to 91712\n",
      "Columns: 186 entries, encounter_id to apache_2_bodysystem\n",
      "dtypes: float64(170), int64(8), object(8)\n",
      "memory usage: 130.1+ MB\n"
     ]
    }
   ],
   "source": [
    "train_dataset=pd.read_csv(\"Dataset.csv\")\n",
    "print(train_dataset.shape)\n",
    "train_dataset.info()"
   ]
  },
  {
   "cell_type": "code",
   "execution_count": 3,
   "id": "2c8d5594",
   "metadata": {},
   "outputs": [],
   "source": [
    "#no. of missing values in each feature in dataset\n",
    "missing_values,missing_values1=[],[]\n",
    "for i in train_dataset.columns.tolist():\n",
    "    missing_values.append(i)\n",
    "    missing_values1.append(train_dataset[i].isnull().sum())                      \n",
    "missing_df=pd.DataFrame({'feature':missing_values,'count':missing_values1})\n",
    "missing_df.to_csv('missing_values.csv',index=False)"
   ]
  },
  {
   "cell_type": "code",
   "execution_count": 4,
   "id": "977fb10b",
   "metadata": {},
   "outputs": [
    {
     "data": {
      "text/plain": [
       "(91713, 108)"
      ]
     },
     "execution_count": 4,
     "metadata": {},
     "output_type": "execute_result"
    }
   ],
   "source": [
    "#dropping columnns having more than 20000 missing values\n",
    "for i in train_dataset:\n",
    "    if train_dataset[i].isnull().sum()>20000:\n",
    "        train_dataset.drop(i,axis=1,inplace=True)\n",
    "train_dataset.shape"
   ]
  },
  {
   "cell_type": "code",
   "execution_count": 5,
   "id": "e45d7fd8",
   "metadata": {},
   "outputs": [
    {
     "data": {
      "text/html": [
       "<div>\n",
       "<style scoped>\n",
       "    .dataframe tbody tr th:only-of-type {\n",
       "        vertical-align: middle;\n",
       "    }\n",
       "\n",
       "    .dataframe tbody tr th {\n",
       "        vertical-align: top;\n",
       "    }\n",
       "\n",
       "    .dataframe thead th {\n",
       "        text-align: right;\n",
       "    }\n",
       "</style>\n",
       "<table border=\"1\" class=\"dataframe\">\n",
       "  <thead>\n",
       "    <tr style=\"text-align: right;\">\n",
       "      <th></th>\n",
       "      <th>encounter_id</th>\n",
       "      <th>patient_id</th>\n",
       "      <th>hospital_id</th>\n",
       "      <th>hospital_death</th>\n",
       "      <th>age</th>\n",
       "      <th>bmi</th>\n",
       "      <th>elective_surgery</th>\n",
       "      <th>ethnicity</th>\n",
       "      <th>gender</th>\n",
       "      <th>height</th>\n",
       "      <th>...</th>\n",
       "      <th>aids</th>\n",
       "      <th>cirrhosis</th>\n",
       "      <th>diabetes_mellitus</th>\n",
       "      <th>hepatic_failure</th>\n",
       "      <th>immunosuppression</th>\n",
       "      <th>leukemia</th>\n",
       "      <th>lymphoma</th>\n",
       "      <th>solid_tumor_with_metastasis</th>\n",
       "      <th>apache_3j_bodysystem</th>\n",
       "      <th>apache_2_bodysystem</th>\n",
       "    </tr>\n",
       "  </thead>\n",
       "  <tbody>\n",
       "    <tr>\n",
       "      <th>0</th>\n",
       "      <td>66154</td>\n",
       "      <td>25312</td>\n",
       "      <td>118</td>\n",
       "      <td>0</td>\n",
       "      <td>68.0</td>\n",
       "      <td>22.73</td>\n",
       "      <td>0</td>\n",
       "      <td>Caucasian</td>\n",
       "      <td>M</td>\n",
       "      <td>180.3</td>\n",
       "      <td>...</td>\n",
       "      <td>0.0</td>\n",
       "      <td>0.0</td>\n",
       "      <td>1.0</td>\n",
       "      <td>0.0</td>\n",
       "      <td>0.0</td>\n",
       "      <td>0.0</td>\n",
       "      <td>0.0</td>\n",
       "      <td>0.0</td>\n",
       "      <td>Sepsis</td>\n",
       "      <td>Cardiovascular</td>\n",
       "    </tr>\n",
       "    <tr>\n",
       "      <th>1</th>\n",
       "      <td>114252</td>\n",
       "      <td>59342</td>\n",
       "      <td>81</td>\n",
       "      <td>0</td>\n",
       "      <td>77.0</td>\n",
       "      <td>27.42</td>\n",
       "      <td>0</td>\n",
       "      <td>Caucasian</td>\n",
       "      <td>F</td>\n",
       "      <td>160.0</td>\n",
       "      <td>...</td>\n",
       "      <td>0.0</td>\n",
       "      <td>0.0</td>\n",
       "      <td>1.0</td>\n",
       "      <td>0.0</td>\n",
       "      <td>0.0</td>\n",
       "      <td>0.0</td>\n",
       "      <td>0.0</td>\n",
       "      <td>0.0</td>\n",
       "      <td>Respiratory</td>\n",
       "      <td>Respiratory</td>\n",
       "    </tr>\n",
       "    <tr>\n",
       "      <th>2</th>\n",
       "      <td>119783</td>\n",
       "      <td>50777</td>\n",
       "      <td>118</td>\n",
       "      <td>0</td>\n",
       "      <td>25.0</td>\n",
       "      <td>31.95</td>\n",
       "      <td>0</td>\n",
       "      <td>Caucasian</td>\n",
       "      <td>F</td>\n",
       "      <td>172.7</td>\n",
       "      <td>...</td>\n",
       "      <td>0.0</td>\n",
       "      <td>0.0</td>\n",
       "      <td>0.0</td>\n",
       "      <td>0.0</td>\n",
       "      <td>0.0</td>\n",
       "      <td>0.0</td>\n",
       "      <td>0.0</td>\n",
       "      <td>0.0</td>\n",
       "      <td>Metabolic</td>\n",
       "      <td>Metabolic</td>\n",
       "    </tr>\n",
       "    <tr>\n",
       "      <th>3</th>\n",
       "      <td>79267</td>\n",
       "      <td>46918</td>\n",
       "      <td>118</td>\n",
       "      <td>0</td>\n",
       "      <td>81.0</td>\n",
       "      <td>22.64</td>\n",
       "      <td>1</td>\n",
       "      <td>Caucasian</td>\n",
       "      <td>F</td>\n",
       "      <td>165.1</td>\n",
       "      <td>...</td>\n",
       "      <td>0.0</td>\n",
       "      <td>0.0</td>\n",
       "      <td>0.0</td>\n",
       "      <td>0.0</td>\n",
       "      <td>0.0</td>\n",
       "      <td>0.0</td>\n",
       "      <td>0.0</td>\n",
       "      <td>0.0</td>\n",
       "      <td>Cardiovascular</td>\n",
       "      <td>Cardiovascular</td>\n",
       "    </tr>\n",
       "    <tr>\n",
       "      <th>4</th>\n",
       "      <td>92056</td>\n",
       "      <td>34377</td>\n",
       "      <td>33</td>\n",
       "      <td>0</td>\n",
       "      <td>19.0</td>\n",
       "      <td>NaN</td>\n",
       "      <td>0</td>\n",
       "      <td>Caucasian</td>\n",
       "      <td>M</td>\n",
       "      <td>188.0</td>\n",
       "      <td>...</td>\n",
       "      <td>0.0</td>\n",
       "      <td>0.0</td>\n",
       "      <td>0.0</td>\n",
       "      <td>0.0</td>\n",
       "      <td>0.0</td>\n",
       "      <td>0.0</td>\n",
       "      <td>0.0</td>\n",
       "      <td>0.0</td>\n",
       "      <td>Trauma</td>\n",
       "      <td>Trauma</td>\n",
       "    </tr>\n",
       "    <tr>\n",
       "      <th>5</th>\n",
       "      <td>33181</td>\n",
       "      <td>74489</td>\n",
       "      <td>83</td>\n",
       "      <td>0</td>\n",
       "      <td>67.0</td>\n",
       "      <td>27.56</td>\n",
       "      <td>0</td>\n",
       "      <td>Caucasian</td>\n",
       "      <td>M</td>\n",
       "      <td>190.5</td>\n",
       "      <td>...</td>\n",
       "      <td>0.0</td>\n",
       "      <td>0.0</td>\n",
       "      <td>1.0</td>\n",
       "      <td>0.0</td>\n",
       "      <td>0.0</td>\n",
       "      <td>0.0</td>\n",
       "      <td>0.0</td>\n",
       "      <td>0.0</td>\n",
       "      <td>Neurological</td>\n",
       "      <td>Neurologic</td>\n",
       "    </tr>\n",
       "    <tr>\n",
       "      <th>6</th>\n",
       "      <td>82208</td>\n",
       "      <td>49526</td>\n",
       "      <td>83</td>\n",
       "      <td>0</td>\n",
       "      <td>59.0</td>\n",
       "      <td>57.45</td>\n",
       "      <td>0</td>\n",
       "      <td>Caucasian</td>\n",
       "      <td>F</td>\n",
       "      <td>165.1</td>\n",
       "      <td>...</td>\n",
       "      <td>0.0</td>\n",
       "      <td>0.0</td>\n",
       "      <td>1.0</td>\n",
       "      <td>0.0</td>\n",
       "      <td>0.0</td>\n",
       "      <td>0.0</td>\n",
       "      <td>0.0</td>\n",
       "      <td>0.0</td>\n",
       "      <td>Respiratory</td>\n",
       "      <td>Respiratory</td>\n",
       "    </tr>\n",
       "    <tr>\n",
       "      <th>7</th>\n",
       "      <td>120995</td>\n",
       "      <td>50129</td>\n",
       "      <td>33</td>\n",
       "      <td>0</td>\n",
       "      <td>70.0</td>\n",
       "      <td>NaN</td>\n",
       "      <td>0</td>\n",
       "      <td>Caucasian</td>\n",
       "      <td>M</td>\n",
       "      <td>165.0</td>\n",
       "      <td>...</td>\n",
       "      <td>0.0</td>\n",
       "      <td>0.0</td>\n",
       "      <td>0.0</td>\n",
       "      <td>0.0</td>\n",
       "      <td>1.0</td>\n",
       "      <td>0.0</td>\n",
       "      <td>0.0</td>\n",
       "      <td>0.0</td>\n",
       "      <td>Sepsis</td>\n",
       "      <td>Cardiovascular</td>\n",
       "    </tr>\n",
       "    <tr>\n",
       "      <th>8</th>\n",
       "      <td>80471</td>\n",
       "      <td>10577</td>\n",
       "      <td>118</td>\n",
       "      <td>1</td>\n",
       "      <td>45.0</td>\n",
       "      <td>NaN</td>\n",
       "      <td>0</td>\n",
       "      <td>Caucasian</td>\n",
       "      <td>M</td>\n",
       "      <td>170.2</td>\n",
       "      <td>...</td>\n",
       "      <td>0.0</td>\n",
       "      <td>0.0</td>\n",
       "      <td>0.0</td>\n",
       "      <td>0.0</td>\n",
       "      <td>0.0</td>\n",
       "      <td>0.0</td>\n",
       "      <td>0.0</td>\n",
       "      <td>0.0</td>\n",
       "      <td>Cardiovascular</td>\n",
       "      <td>Cardiovascular</td>\n",
       "    </tr>\n",
       "    <tr>\n",
       "      <th>9</th>\n",
       "      <td>42871</td>\n",
       "      <td>90749</td>\n",
       "      <td>118</td>\n",
       "      <td>0</td>\n",
       "      <td>50.0</td>\n",
       "      <td>25.71</td>\n",
       "      <td>0</td>\n",
       "      <td>NaN</td>\n",
       "      <td>M</td>\n",
       "      <td>175.3</td>\n",
       "      <td>...</td>\n",
       "      <td>0.0</td>\n",
       "      <td>0.0</td>\n",
       "      <td>0.0</td>\n",
       "      <td>0.0</td>\n",
       "      <td>0.0</td>\n",
       "      <td>0.0</td>\n",
       "      <td>0.0</td>\n",
       "      <td>0.0</td>\n",
       "      <td>Cardiovascular</td>\n",
       "      <td>Cardiovascular</td>\n",
       "    </tr>\n",
       "  </tbody>\n",
       "</table>\n",
       "<p>10 rows × 108 columns</p>\n",
       "</div>"
      ],
      "text/plain": [
       "   encounter_id  patient_id  hospital_id  hospital_death   age    bmi  \\\n",
       "0         66154       25312          118               0  68.0  22.73   \n",
       "1        114252       59342           81               0  77.0  27.42   \n",
       "2        119783       50777          118               0  25.0  31.95   \n",
       "3         79267       46918          118               0  81.0  22.64   \n",
       "4         92056       34377           33               0  19.0    NaN   \n",
       "5         33181       74489           83               0  67.0  27.56   \n",
       "6         82208       49526           83               0  59.0  57.45   \n",
       "7        120995       50129           33               0  70.0    NaN   \n",
       "8         80471       10577          118               1  45.0    NaN   \n",
       "9         42871       90749          118               0  50.0  25.71   \n",
       "\n",
       "   elective_surgery  ethnicity gender  height  ... aids  cirrhosis  \\\n",
       "0                 0  Caucasian      M   180.3  ...  0.0        0.0   \n",
       "1                 0  Caucasian      F   160.0  ...  0.0        0.0   \n",
       "2                 0  Caucasian      F   172.7  ...  0.0        0.0   \n",
       "3                 1  Caucasian      F   165.1  ...  0.0        0.0   \n",
       "4                 0  Caucasian      M   188.0  ...  0.0        0.0   \n",
       "5                 0  Caucasian      M   190.5  ...  0.0        0.0   \n",
       "6                 0  Caucasian      F   165.1  ...  0.0        0.0   \n",
       "7                 0  Caucasian      M   165.0  ...  0.0        0.0   \n",
       "8                 0  Caucasian      M   170.2  ...  0.0        0.0   \n",
       "9                 0        NaN      M   175.3  ...  0.0        0.0   \n",
       "\n",
       "  diabetes_mellitus hepatic_failure  immunosuppression  leukemia  lymphoma  \\\n",
       "0               1.0             0.0                0.0       0.0       0.0   \n",
       "1               1.0             0.0                0.0       0.0       0.0   \n",
       "2               0.0             0.0                0.0       0.0       0.0   \n",
       "3               0.0             0.0                0.0       0.0       0.0   \n",
       "4               0.0             0.0                0.0       0.0       0.0   \n",
       "5               1.0             0.0                0.0       0.0       0.0   \n",
       "6               1.0             0.0                0.0       0.0       0.0   \n",
       "7               0.0             0.0                1.0       0.0       0.0   \n",
       "8               0.0             0.0                0.0       0.0       0.0   \n",
       "9               0.0             0.0                0.0       0.0       0.0   \n",
       "\n",
       "   solid_tumor_with_metastasis  apache_3j_bodysystem  apache_2_bodysystem  \n",
       "0                          0.0                Sepsis       Cardiovascular  \n",
       "1                          0.0           Respiratory          Respiratory  \n",
       "2                          0.0             Metabolic            Metabolic  \n",
       "3                          0.0        Cardiovascular       Cardiovascular  \n",
       "4                          0.0                Trauma               Trauma  \n",
       "5                          0.0          Neurological           Neurologic  \n",
       "6                          0.0           Respiratory          Respiratory  \n",
       "7                          0.0                Sepsis       Cardiovascular  \n",
       "8                          0.0        Cardiovascular       Cardiovascular  \n",
       "9                          0.0        Cardiovascular       Cardiovascular  \n",
       "\n",
       "[10 rows x 108 columns]"
      ]
     },
     "execution_count": 5,
     "metadata": {},
     "output_type": "execute_result"
    }
   ],
   "source": [
    "train_dataset.head(10)"
   ]
  },
  {
   "cell_type": "code",
   "execution_count": 6,
   "id": "d822223b",
   "metadata": {},
   "outputs": [
    {
     "data": {
      "text/plain": [
       "(91713, 103)"
      ]
     },
     "execution_count": 6,
     "metadata": {},
     "output_type": "execute_result"
    }
   ],
   "source": [
    "#dropped this variables as they have no significance for model building\n",
    "dropcol=[\"encounter_id\",\"patient_id\",\"hospital_id\",\"icu_id\",\"readmission_status\"]\n",
    "train_dataset.drop(dropcol,axis=1,inplace=True)\n",
    "train_dataset.shape"
   ]
  },
  {
   "cell_type": "code",
   "execution_count": 7,
   "id": "fafcf97a",
   "metadata": {},
   "outputs": [],
   "source": [
    "#list of categorical variables whose missing values are replaced with mode\n",
    "cat_var=[\"hospital_death\",\"elective_surgery\",\"apache_post_operative\",\"arf_apache\",\"gcs_unable_apache\",\"intubated_apache\"\n",
    "        ,\"ventilated_apache\",\"aids\",\"cirrhosis\",\"diabetes_mellitus\",\"hepatic_failure\",\"immunosuppression\",\"leukemia\",\n",
    "         \"lymphoma\",\"solid_tumor_with_metastasis\"]\n",
    "#list of integer variables whose missing values are replaced with mean\n",
    "int_var=[\"age\",\"apache_2_diagnosis\",\"heart_rate_apache\",\"gcs_verbal_apache\",\"gcs_eyes_apache\",\"gcs_motor_apache\",\n",
    "        \"map_apache\",\"d1_diasbp_max\",\"d1_diasbp_min\",\"d1_diasbp_noninvasive_max\",\"d1_diasbp_noninvasive_min\",\n",
    "         \"d1_heartrate_max\",\"d1_heartrate_min\",\"d1_mbp_max\",\"d1_mbp_min\",\"d1_mbp_noninvasive_max\",\n",
    "         \"d1_mbp_noninvasive_min\",\"d1_resprate_max\",\"d1_resprate_min\",\"d1_spo2_max\",\"d1_spo2_min\",\n",
    "         \"d1_sysbp_max\",\"d1_sysbp_min\",\"d1_sysbp_noninvasive_max\",\"d1_sysbp_noninvasive_min\",\"h1_diasbp_max\",\n",
    "         \"h1_diasbp_min\",\"h1_diasbp_noninvasive_max\",\"h1_diasbp_noninvasive_min\",\"h1_heartrate_max\",\"h1_heartrate_min\",\n",
    "        \"h1_diasbp_max\",\"h1_diasbp_min\",\"h1_diasbp_noninvasive_max\",\n",
    "         \"h1_diasbp_noninvasive_min\",\"h1_heartrate_max\",\"h1_heartrate_min\",\n",
    "         \"h1_mbp_max\",\"h1_mbp_min\",\"h1_mbp_noninvasive_max\",\"h1_mbp_noninvasive_min\",\n",
    "         \"h1_resprate_max\",\"h1_resprate_min\",\"h1_spo2_max\",\"h1_spo2_min\",\n",
    "         \"h1_sysbp_max\",\"h1_sysbp_min\",\"h1_sysbp_noninvasive_max\",\"h1_sysbp_noninvasive_min\",\"d1_glucose_max\",\n",
    "         \"d1_glucose_min\"]\n",
    "for i in train_dataset:\n",
    "    if train_dataset[i].dtypes==\"object\" or i in cat_var:\n",
    "#         train_dataset[i].replace(r'^\\s*$',np.nan,inplace=True,regex=True)\n",
    "        train_dataset[i].fillna(train_dataset[i].mode()[0],inplace=True)\n",
    "for i in int_var:\n",
    "    train_dataset[i].fillna(round(train_dataset[i].mean()),inplace=True)\n",
    "    \n",
    "#list of float variables whose missing values are replaced with mean\n",
    "for i in train_dataset:\n",
    "    if train_dataset[i].dtypes==\"float64\":\n",
    "        train_dataset[i].fillna(round(train_dataset[i].mean(),2),inplace=True)"
   ]
  },
  {
   "cell_type": "code",
   "execution_count": 8,
   "id": "956786da",
   "metadata": {},
   "outputs": [],
   "source": [
    "missing_values,missing_values1=[],[]\n",
    "for i in train_dataset.columns.tolist():\n",
    "    missing_values.append(i)\n",
    "    missing_values1.append(train_dataset[i].isnull().sum())                      \n",
    "missing_df=pd.DataFrame({'feature':missing_values,'count':missing_values1})\n",
    "missing_df.to_csv('missing_values1.csv',index=False)"
   ]
  },
  {
   "cell_type": "code",
   "execution_count": 9,
   "id": "f07e0260",
   "metadata": {},
   "outputs": [
    {
     "data": {
      "text/html": [
       "<div>\n",
       "<style scoped>\n",
       "    .dataframe tbody tr th:only-of-type {\n",
       "        vertical-align: middle;\n",
       "    }\n",
       "\n",
       "    .dataframe tbody tr th {\n",
       "        vertical-align: top;\n",
       "    }\n",
       "\n",
       "    .dataframe thead th {\n",
       "        text-align: right;\n",
       "    }\n",
       "</style>\n",
       "<table border=\"1\" class=\"dataframe\">\n",
       "  <thead>\n",
       "    <tr style=\"text-align: right;\">\n",
       "      <th></th>\n",
       "      <th>hospital_death</th>\n",
       "      <th>age</th>\n",
       "      <th>bmi</th>\n",
       "      <th>elective_surgery</th>\n",
       "      <th>ethnicity</th>\n",
       "      <th>gender</th>\n",
       "      <th>height</th>\n",
       "      <th>icu_admit_source</th>\n",
       "      <th>icu_stay_type</th>\n",
       "      <th>icu_type</th>\n",
       "      <th>...</th>\n",
       "      <th>aids</th>\n",
       "      <th>cirrhosis</th>\n",
       "      <th>diabetes_mellitus</th>\n",
       "      <th>hepatic_failure</th>\n",
       "      <th>immunosuppression</th>\n",
       "      <th>leukemia</th>\n",
       "      <th>lymphoma</th>\n",
       "      <th>solid_tumor_with_metastasis</th>\n",
       "      <th>apache_3j_bodysystem</th>\n",
       "      <th>apache_2_bodysystem</th>\n",
       "    </tr>\n",
       "  </thead>\n",
       "  <tbody>\n",
       "    <tr>\n",
       "      <th>0</th>\n",
       "      <td>0</td>\n",
       "      <td>68.0</td>\n",
       "      <td>22.73</td>\n",
       "      <td>0</td>\n",
       "      <td>Caucasian</td>\n",
       "      <td>M</td>\n",
       "      <td>180.3</td>\n",
       "      <td>Floor</td>\n",
       "      <td>admit</td>\n",
       "      <td>CTICU</td>\n",
       "      <td>...</td>\n",
       "      <td>0.0</td>\n",
       "      <td>0.0</td>\n",
       "      <td>1.0</td>\n",
       "      <td>0.0</td>\n",
       "      <td>0.0</td>\n",
       "      <td>0.0</td>\n",
       "      <td>0.0</td>\n",
       "      <td>0.0</td>\n",
       "      <td>Sepsis</td>\n",
       "      <td>Cardiovascular</td>\n",
       "    </tr>\n",
       "    <tr>\n",
       "      <th>1</th>\n",
       "      <td>0</td>\n",
       "      <td>77.0</td>\n",
       "      <td>27.42</td>\n",
       "      <td>0</td>\n",
       "      <td>Caucasian</td>\n",
       "      <td>F</td>\n",
       "      <td>160.0</td>\n",
       "      <td>Floor</td>\n",
       "      <td>admit</td>\n",
       "      <td>Med-Surg ICU</td>\n",
       "      <td>...</td>\n",
       "      <td>0.0</td>\n",
       "      <td>0.0</td>\n",
       "      <td>1.0</td>\n",
       "      <td>0.0</td>\n",
       "      <td>0.0</td>\n",
       "      <td>0.0</td>\n",
       "      <td>0.0</td>\n",
       "      <td>0.0</td>\n",
       "      <td>Respiratory</td>\n",
       "      <td>Respiratory</td>\n",
       "    </tr>\n",
       "    <tr>\n",
       "      <th>2</th>\n",
       "      <td>0</td>\n",
       "      <td>25.0</td>\n",
       "      <td>31.95</td>\n",
       "      <td>0</td>\n",
       "      <td>Caucasian</td>\n",
       "      <td>F</td>\n",
       "      <td>172.7</td>\n",
       "      <td>Accident &amp; Emergency</td>\n",
       "      <td>admit</td>\n",
       "      <td>Med-Surg ICU</td>\n",
       "      <td>...</td>\n",
       "      <td>0.0</td>\n",
       "      <td>0.0</td>\n",
       "      <td>0.0</td>\n",
       "      <td>0.0</td>\n",
       "      <td>0.0</td>\n",
       "      <td>0.0</td>\n",
       "      <td>0.0</td>\n",
       "      <td>0.0</td>\n",
       "      <td>Metabolic</td>\n",
       "      <td>Metabolic</td>\n",
       "    </tr>\n",
       "    <tr>\n",
       "      <th>3</th>\n",
       "      <td>0</td>\n",
       "      <td>81.0</td>\n",
       "      <td>22.64</td>\n",
       "      <td>1</td>\n",
       "      <td>Caucasian</td>\n",
       "      <td>F</td>\n",
       "      <td>165.1</td>\n",
       "      <td>Operating Room / Recovery</td>\n",
       "      <td>admit</td>\n",
       "      <td>CTICU</td>\n",
       "      <td>...</td>\n",
       "      <td>0.0</td>\n",
       "      <td>0.0</td>\n",
       "      <td>0.0</td>\n",
       "      <td>0.0</td>\n",
       "      <td>0.0</td>\n",
       "      <td>0.0</td>\n",
       "      <td>0.0</td>\n",
       "      <td>0.0</td>\n",
       "      <td>Cardiovascular</td>\n",
       "      <td>Cardiovascular</td>\n",
       "    </tr>\n",
       "    <tr>\n",
       "      <th>4</th>\n",
       "      <td>0</td>\n",
       "      <td>19.0</td>\n",
       "      <td>29.19</td>\n",
       "      <td>0</td>\n",
       "      <td>Caucasian</td>\n",
       "      <td>M</td>\n",
       "      <td>188.0</td>\n",
       "      <td>Accident &amp; Emergency</td>\n",
       "      <td>admit</td>\n",
       "      <td>Med-Surg ICU</td>\n",
       "      <td>...</td>\n",
       "      <td>0.0</td>\n",
       "      <td>0.0</td>\n",
       "      <td>0.0</td>\n",
       "      <td>0.0</td>\n",
       "      <td>0.0</td>\n",
       "      <td>0.0</td>\n",
       "      <td>0.0</td>\n",
       "      <td>0.0</td>\n",
       "      <td>Trauma</td>\n",
       "      <td>Trauma</td>\n",
       "    </tr>\n",
       "  </tbody>\n",
       "</table>\n",
       "<p>5 rows × 103 columns</p>\n",
       "</div>"
      ],
      "text/plain": [
       "   hospital_death   age    bmi  elective_surgery  ethnicity gender  height  \\\n",
       "0               0  68.0  22.73                 0  Caucasian      M   180.3   \n",
       "1               0  77.0  27.42                 0  Caucasian      F   160.0   \n",
       "2               0  25.0  31.95                 0  Caucasian      F   172.7   \n",
       "3               0  81.0  22.64                 1  Caucasian      F   165.1   \n",
       "4               0  19.0  29.19                 0  Caucasian      M   188.0   \n",
       "\n",
       "            icu_admit_source icu_stay_type      icu_type  ...  aids  \\\n",
       "0                      Floor         admit         CTICU  ...   0.0   \n",
       "1                      Floor         admit  Med-Surg ICU  ...   0.0   \n",
       "2       Accident & Emergency         admit  Med-Surg ICU  ...   0.0   \n",
       "3  Operating Room / Recovery         admit         CTICU  ...   0.0   \n",
       "4       Accident & Emergency         admit  Med-Surg ICU  ...   0.0   \n",
       "\n",
       "   cirrhosis  diabetes_mellitus  hepatic_failure  immunosuppression  leukemia  \\\n",
       "0        0.0                1.0              0.0                0.0       0.0   \n",
       "1        0.0                1.0              0.0                0.0       0.0   \n",
       "2        0.0                0.0              0.0                0.0       0.0   \n",
       "3        0.0                0.0              0.0                0.0       0.0   \n",
       "4        0.0                0.0              0.0                0.0       0.0   \n",
       "\n",
       "   lymphoma  solid_tumor_with_metastasis  apache_3j_bodysystem  \\\n",
       "0       0.0                          0.0                Sepsis   \n",
       "1       0.0                          0.0           Respiratory   \n",
       "2       0.0                          0.0             Metabolic   \n",
       "3       0.0                          0.0        Cardiovascular   \n",
       "4       0.0                          0.0                Trauma   \n",
       "\n",
       "   apache_2_bodysystem  \n",
       "0       Cardiovascular  \n",
       "1          Respiratory  \n",
       "2            Metabolic  \n",
       "3       Cardiovascular  \n",
       "4               Trauma  \n",
       "\n",
       "[5 rows x 103 columns]"
      ]
     },
     "execution_count": 9,
     "metadata": {},
     "output_type": "execute_result"
    }
   ],
   "source": [
    "#new training dataset after cleaning and preprocessing\n",
    "train_dataset.head()"
   ]
  },
  {
   "cell_type": "markdown",
   "id": "a0c6ab33",
   "metadata": {},
   "source": [
    "# Exploratory Data Analysis"
   ]
  },
  {
   "cell_type": "code",
   "execution_count": 10,
   "id": "daab6687",
   "metadata": {},
   "outputs": [],
   "source": [
    "import os\n",
    "import pandas as pd\n",
    "import numpy as np\n",
    "import matplotlib.pyplot as plt\n",
    "%matplotlib inline"
   ]
  },
  {
   "cell_type": "code",
   "execution_count": 11,
   "id": "2ae76399",
   "metadata": {},
   "outputs": [],
   "source": [
    "dataset = train_dataset"
   ]
  },
  {
   "cell_type": "code",
   "execution_count": 12,
   "id": "47809c12",
   "metadata": {},
   "outputs": [
    {
     "name": "stdout",
     "output_type": "stream",
     "text": [
      "<class 'pandas.core.frame.DataFrame'>\n",
      "RangeIndex: 91713 entries, 0 to 91712\n",
      "Columns: 103 entries, hospital_death to apache_2_bodysystem\n",
      "dtypes: float64(93), int64(3), object(7)\n",
      "memory usage: 72.1+ MB\n"
     ]
    }
   ],
   "source": [
    "dataset.info()"
   ]
  },
  {
   "cell_type": "code",
   "execution_count": 13,
   "id": "bfdfa5bd",
   "metadata": {
    "scrolled": true
   },
   "outputs": [
    {
     "data": {
      "image/png": "[encoded data removed]",
      "text/plain": [
       "<Figure size 1440x360 with 1 Axes>"
      ]
     },
     "metadata": {
      "needs_background": "light"
     },
     "output_type": "display_data"
    }
   ],
   "source": [
    "fig = plt.subplots(figsize=(20,5))\n",
    "dataset.groupby('age')['hospital_death'].sum().plot(kind='line');\n",
    "plt.xticks(rotation =75)\n",
    "plt.xlabel('Age ')\n",
    "plt.ylabel('Number of deaths');"
   ]
  },
  {
   "cell_type": "code",
   "execution_count": 14,
   "id": "ea4077a9",
   "metadata": {},
   "outputs": [
    {
     "data": {
      "image/png": "[encoded data removed]",
      "text/plain": [
       "<Figure size 1440x360 with 1 Axes>"
      ]
     },
     "metadata": {
      "needs_background": "light"
     },
     "output_type": "display_data"
    }
   ],
   "source": [
    "fig = plt.subplots(figsize=(20,5))\n",
    "dataset.groupby('ethnicity')['hospital_death'].sum().plot(kind='bar');\n",
    "plt.xticks(rotation= 0)\n",
    "plt.yticks(np.arange(0,7000,500))\n",
    "plt.xlabel('ethnicity ')\n",
    "plt.ylabel('Number of deaths');"
   ]
  },
  {
   "cell_type": "code",
   "execution_count": 15,
   "id": "501115c0",
   "metadata": {},
   "outputs": [
    {
     "data": {
      "text/plain": [
       "ethnicity\n",
       "African American     750\n",
       "Asian                 93\n",
       "Caucasian           6273\n",
       "Hispanic             376\n",
       "Native American       70\n",
       "Other/Unknown        353\n",
       "Name: hospital_death, dtype: int64"
      ]
     },
     "execution_count": 15,
     "metadata": {},
     "output_type": "execute_result"
    }
   ],
   "source": [
    "dataset.groupby('ethnicity')['hospital_death'].sum()"
   ]
  },
  {
   "cell_type": "code",
   "execution_count": 16,
   "id": "0a9352ee",
   "metadata": {},
   "outputs": [
    {
     "data": {
      "text/plain": [
       "Caucasian           72079\n",
       "African American     9547\n",
       "Other/Unknown        4374\n",
       "Hispanic             3796\n",
       "Asian                1129\n",
       "Native American       788\n",
       "Name: ethnicity, dtype: int64"
      ]
     },
     "execution_count": 16,
     "metadata": {},
     "output_type": "execute_result"
    }
   ],
   "source": [
    "dataset['ethnicity'].value_counts()"
   ]
  },
  {
   "cell_type": "markdown",
   "id": "5e6c8d31",
   "metadata": {},
   "source": [
    "Age Vs Precondtion diseases - "
   ]
  },
  {
   "cell_type": "code",
   "execution_count": 17,
   "id": "fc03aff4",
   "metadata": {},
   "outputs": [
    {
     "data": {
      "image/png": "[encoded data removed]",
      "text/plain": [
       "<Figure size 1440x360 with 1 Axes>"
      ]
     },
     "metadata": {
      "needs_background": "light"
     },
     "output_type": "display_data"
    }
   ],
   "source": [
    "fig = plt.subplots(figsize=(20,5))\n",
    "dataset.groupby('age')['aids'].sum().plot(kind='bar');\n",
    "plt.xlabel('Ages ')\n",
    "plt.ylabel('Number of patients');"
   ]
  },
  {
   "cell_type": "code",
   "execution_count": 18,
   "id": "147a3bbc",
   "metadata": {},
   "outputs": [
    {
     "data": {
      "image/png": "[encoded data removed]",
      "text/plain": [
       "<Figure size 1440x360 with 1 Axes>"
      ]
     },
     "metadata": {
      "needs_background": "light"
     },
     "output_type": "display_data"
    }
   ],
   "source": [
    "fig = plt.subplots(figsize=(20,5))\n",
    "dataset.groupby('age')['diabetes_mellitus'].sum().plot(kind='bar');\n",
    "plt.xlabel('Ages ')\n",
    "plt.ylabel('Number of patients');"
   ]
  },
  {
   "cell_type": "code",
   "execution_count": 19,
   "id": "cf342845",
   "metadata": {},
   "outputs": [
    {
     "data": {
      "image/png": "[encoded data removed]",
      "text/plain": [
       "<Figure size 1440x360 with 1 Axes>"
      ]
     },
     "metadata": {
      "needs_background": "light"
     },
     "output_type": "display_data"
    }
   ],
   "source": [
    "fig = plt.subplots(figsize=(20,5))\n",
    "dataset.groupby('diabetes_mellitus')['hospital_death'].sum().plot(kind='bar');\n",
    "plt.xlabel('Ages ')\n",
    "plt.ylabel('Number of patients');"
   ]
  },
  {
   "cell_type": "code",
   "execution_count": 20,
   "id": "747a9e95",
   "metadata": {},
   "outputs": [
    {
     "data": {
      "text/plain": [
       "diabetes_mellitus\n",
       "0.0    6320\n",
       "1.0    1595\n",
       "Name: hospital_death, dtype: int64"
      ]
     },
     "execution_count": 20,
     "metadata": {},
     "output_type": "execute_result"
    }
   ],
   "source": [
    "dataset.groupby('diabetes_mellitus')['hospital_death'].sum()"
   ]
  },
  {
   "cell_type": "code",
   "execution_count": 21,
   "id": "e250bea2",
   "metadata": {},
   "outputs": [
    {
     "data": {
      "image/png": "[encoded data removed]",
      "text/plain": [
       "<Figure size 432x288 with 1 Axes>"
      ]
     },
     "metadata": {
      "needs_background": "light"
     },
     "output_type": "display_data"
    }
   ],
   "source": [
    "dataset.groupby('gender')['hospital_death'].sum().plot(kind='bar');\n",
    "plt.yticks(np.arange(0,5000,500))\n",
    "plt.xlabel('Gender')\n",
    "plt.ylabel('Hospital Deaths');"
   ]
  },
  {
   "cell_type": "code",
   "execution_count": 22,
   "id": "60b0ef40",
   "metadata": {},
   "outputs": [
    {
     "data": {
      "text/plain": [
       "gender\n",
       "F    3731\n",
       "M    4184\n",
       "Name: hospital_death, dtype: int64"
      ]
     },
     "execution_count": 22,
     "metadata": {},
     "output_type": "execute_result"
    }
   ],
   "source": [
    "dataset.groupby('gender')['hospital_death'].sum()"
   ]
  },
  {
   "cell_type": "code",
   "execution_count": 23,
   "id": "ef526ad1",
   "metadata": {},
   "outputs": [
    {
     "data": {
      "text/plain": [
       "M    49494\n",
       "F    42219\n",
       "Name: gender, dtype: int64"
      ]
     },
     "execution_count": 23,
     "metadata": {},
     "output_type": "execute_result"
    }
   ],
   "source": [
    "dataset['gender'].value_counts()"
   ]
  },
  {
   "cell_type": "code",
   "execution_count": 24,
   "id": "4d5ccdfd",
   "metadata": {},
   "outputs": [
    {
     "data": {
      "image/png": "[encoded data removed]",
      "text/plain": [
       "<Figure size 432x288 with 1 Axes>"
      ]
     },
     "metadata": {
      "needs_background": "light"
     },
     "output_type": "display_data"
    }
   ],
   "source": [
    "dataset['gender'].value_counts(sort = True).plot(kind = 'bar');\n",
    "plt.yticks(np.arange(0,55000,5000))\n",
    "plt.xlabel('Gender')\n",
    "plt.ylabel('Admitted Patients');"
   ]
  },
  {
   "cell_type": "code",
   "execution_count": 25,
   "id": "e749f5c4",
   "metadata": {},
   "outputs": [
    {
     "data": {
      "image/png": "[encoded data removed]",
      "text/plain": [
       "<Figure size 432x288 with 1 Axes>"
      ]
     },
     "metadata": {},
     "output_type": "display_data"
    }
   ],
   "source": [
    "dataset.groupby('icu_admit_source')['hospital_death'].sum().plot(kind='pie',autopct='%1.2f%%')\n",
    "#plt.yticks(np.arange(0,6000,1000))\n",
    "#plt.xticks(rotation=90)\n",
    "plt.show()"
   ]
  },
  {
   "cell_type": "code",
   "execution_count": 26,
   "id": "8a50d69f",
   "metadata": {},
   "outputs": [
    {
     "data": {
      "text/plain": [
       "icu_admit_source\n",
       "Accident & Emergency         4682\n",
       "Floor                        2094\n",
       "Operating Room / Recovery     698\n",
       "Other Hospital                317\n",
       "Other ICU                     124\n",
       "Name: hospital_death, dtype: int64"
      ]
     },
     "execution_count": 26,
     "metadata": {},
     "output_type": "execute_result"
    }
   ],
   "source": [
    "\n",
    "dataset.groupby('icu_admit_source')['hospital_death'].sum()"
   ]
  },
  {
   "cell_type": "code",
   "execution_count": 27,
   "id": "304eb330",
   "metadata": {},
   "outputs": [
    {
     "data": {
      "image/png": "[encoded data removed]",
      "text/plain": [
       "<Figure size 432x288 with 1 Axes>"
      ]
     },
     "metadata": {
      "needs_background": "light"
     },
     "output_type": "display_data"
    }
   ],
   "source": [
    "dataset.groupby('icu_admit_source')['hospital_death'].sum().plot(kind='line')\n",
    "plt.yticks(np.arange(0,6000,1000))\n",
    "plt.xticks(rotation=90)\n",
    "plt.show()"
   ]
  },
  {
   "cell_type": "code",
   "execution_count": 28,
   "id": "39b25b43",
   "metadata": {},
   "outputs": [
    {
     "data": {
      "image/png": "[encoded data removed]",
      "text/plain": [
       "<Figure size 1440x360 with 1 Axes>"
      ]
     },
     "metadata": {
      "needs_background": "light"
     },
     "output_type": "display_data"
    }
   ],
   "source": [
    "fig = plt.subplots(figsize=(20,5))\n",
    "dataset.groupby('weight')['hospital_death'].sum().plot(kind='area');\n",
    "plt.xticks(rotation =75)\n",
    "plt.xticks(np.arange(35,195,5))\n",
    "plt.yticks(np.arange(0,275,25))\n",
    "plt.xlabel('weight')\n",
    "plt.ylabel('Number of deaths');"
   ]
  },
  {
   "cell_type": "code",
   "execution_count": 29,
   "id": "699b94a4",
   "metadata": {},
   "outputs": [
    {
     "data": {
      "image/png": "[encoded data removed]",
      "text/plain": [
       "<Figure size 1440x360 with 1 Axes>"
      ]
     },
     "metadata": {},
     "output_type": "display_data"
    }
   ],
   "source": [
    "fig = plt.subplots(figsize=(20,5))\n",
    "dataset.groupby('icu_type')['hospital_death'].sum().plot(kind='pie',autopct='%1.2f%%')\n",
    "plt.show()"
   ]
  },
  {
   "cell_type": "code",
   "execution_count": 30,
   "id": "1b877e58",
   "metadata": {},
   "outputs": [
    {
     "data": {
      "text/plain": [
       "icu_type\n",
       "CCU-CTICU        542\n",
       "CSICU            254\n",
       "CTICU            241\n",
       "Cardiac ICU      494\n",
       "MICU             930\n",
       "Med-Surg ICU    4426\n",
       "Neuro ICU        638\n",
       "SICU             390\n",
       "Name: hospital_death, dtype: int64"
      ]
     },
     "execution_count": 30,
     "metadata": {},
     "output_type": "execute_result"
    }
   ],
   "source": [
    "dataset.groupby('icu_type')['hospital_death'].sum()"
   ]
  },
  {
   "cell_type": "code",
   "execution_count": 31,
   "id": "606caa9d",
   "metadata": {},
   "outputs": [
    {
     "data": {
      "image/png": "[encoded data removed]",
      "text/plain": [
       "<Figure size 432x288 with 1 Axes>"
      ]
     },
     "metadata": {
      "needs_background": "light"
     },
     "output_type": "display_data"
    },
    {
     "name": "stdout",
     "output_type": "stream",
     "text": [
      "elective_surgery  hospital_death\n",
      "0                 0                 67468\n",
      "                  1                  7394\n",
      "1                 0                 16330\n",
      "                  1                   521\n",
      "Name: hospital_death, dtype: int64\n"
     ]
    }
   ],
   "source": [
    "dataset.groupby('elective_surgery')['hospital_death'].sum().plot(kind='bar')\n",
    "plt.xticks(rotation=0)\n",
    "plt.yticks(np.arange(0,9000,1000))\n",
    "plt.show()\n",
    "print(dataset.groupby('elective_surgery')['hospital_death'].value_counts())"
   ]
  },
  {
   "cell_type": "code",
   "execution_count": 32,
   "id": "29e6557c",
   "metadata": {},
   "outputs": [
    {
     "data": {
      "image/png": "[encoded data removed]",
      "text/plain": [
       "<Figure size 1440x360 with 1 Axes>"
      ]
     },
     "metadata": {
      "needs_background": "light"
     },
     "output_type": "display_data"
    }
   ],
   "source": [
    "fig = plt.subplots(figsize=(20,5))\n",
    "dataset.groupby('gender')['diabetes_mellitus'].sum().plot(kind='bar');\n",
    "plt.yticks(np.arange(0,14000,2000))\n",
    "plt.xlabel('Gender')\n",
    "plt.ylabel('Number of patients');"
   ]
  },
  {
   "cell_type": "code",
   "execution_count": 33,
   "id": "f69b8e9c",
   "metadata": {},
   "outputs": [
    {
     "data": {
      "text/plain": [
       "0    83798\n",
       "1     7915\n",
       "Name: hospital_death, dtype: int64"
      ]
     },
     "execution_count": 33,
     "metadata": {},
     "output_type": "execute_result"
    }
   ],
   "source": [
    "train_dataset['hospital_death'].value_counts()"
   ]
  },
  {
   "cell_type": "markdown",
   "id": "2474b327",
   "metadata": {},
   "source": [
    "# Label Encoding"
   ]
  },
  {
   "cell_type": "code",
   "execution_count": 96,
   "id": "00297769",
   "metadata": {},
   "outputs": [],
   "source": [
    "from sklearn import preprocessing\n",
    "LE = preprocessing.LabelEncoder()"
   ]
  },
  {
   "cell_type": "code",
   "execution_count": 97,
   "id": "b3b3442f",
   "metadata": {},
   "outputs": [],
   "source": [
    "cat_features = ['apache_3j_bodysystem','apache_2_bodysystem','icu_stay_type','icu_admit_source','icu_type','gender','ethnicity']\n",
    "for feature in cat_features:\n",
    "    dataset[feature]=LE.fit_transform(dataset[feature])"
   ]
  },
  {
   "cell_type": "code",
   "execution_count": 98,
   "id": "048c9f37",
   "metadata": {},
   "outputs": [
    {
     "data": {
      "text/html": [
       "<div>\n",
       "<style scoped>\n",
       "    .dataframe tbody tr th:only-of-type {\n",
       "        vertical-align: middle;\n",
       "    }\n",
       "\n",
       "    .dataframe tbody tr th {\n",
       "        vertical-align: top;\n",
       "    }\n",
       "\n",
       "    .dataframe thead th {\n",
       "        text-align: right;\n",
       "    }\n",
       "</style>\n",
       "<table border=\"1\" class=\"dataframe\">\n",
       "  <thead>\n",
       "    <tr style=\"text-align: right;\">\n",
       "      <th></th>\n",
       "      <th>hospital_death</th>\n",
       "      <th>age</th>\n",
       "      <th>bmi</th>\n",
       "      <th>elective_surgery</th>\n",
       "      <th>ethnicity</th>\n",
       "      <th>gender</th>\n",
       "      <th>height</th>\n",
       "      <th>icu_admit_source</th>\n",
       "      <th>icu_stay_type</th>\n",
       "      <th>icu_type</th>\n",
       "      <th>...</th>\n",
       "      <th>aids</th>\n",
       "      <th>cirrhosis</th>\n",
       "      <th>diabetes_mellitus</th>\n",
       "      <th>hepatic_failure</th>\n",
       "      <th>immunosuppression</th>\n",
       "      <th>leukemia</th>\n",
       "      <th>lymphoma</th>\n",
       "      <th>solid_tumor_with_metastasis</th>\n",
       "      <th>apache_3j_bodysystem</th>\n",
       "      <th>apache_2_bodysystem</th>\n",
       "    </tr>\n",
       "  </thead>\n",
       "  <tbody>\n",
       "    <tr>\n",
       "      <th>0</th>\n",
       "      <td>0</td>\n",
       "      <td>68.0</td>\n",
       "      <td>22.730000</td>\n",
       "      <td>0</td>\n",
       "      <td>2</td>\n",
       "      <td>1</td>\n",
       "      <td>180.3</td>\n",
       "      <td>1</td>\n",
       "      <td>0</td>\n",
       "      <td>2</td>\n",
       "      <td>...</td>\n",
       "      <td>0.0</td>\n",
       "      <td>0.0</td>\n",
       "      <td>1.0</td>\n",
       "      <td>0.0</td>\n",
       "      <td>0.0</td>\n",
       "      <td>0.0</td>\n",
       "      <td>0.0</td>\n",
       "      <td>0.0</td>\n",
       "      <td>9</td>\n",
       "      <td>0</td>\n",
       "    </tr>\n",
       "    <tr>\n",
       "      <th>1</th>\n",
       "      <td>0</td>\n",
       "      <td>77.0</td>\n",
       "      <td>27.420000</td>\n",
       "      <td>0</td>\n",
       "      <td>2</td>\n",
       "      <td>0</td>\n",
       "      <td>160.0</td>\n",
       "      <td>1</td>\n",
       "      <td>0</td>\n",
       "      <td>5</td>\n",
       "      <td>...</td>\n",
       "      <td>0.0</td>\n",
       "      <td>0.0</td>\n",
       "      <td>1.0</td>\n",
       "      <td>0.0</td>\n",
       "      <td>0.0</td>\n",
       "      <td>0.0</td>\n",
       "      <td>0.0</td>\n",
       "      <td>0.0</td>\n",
       "      <td>8</td>\n",
       "      <td>6</td>\n",
       "    </tr>\n",
       "    <tr>\n",
       "      <th>2</th>\n",
       "      <td>0</td>\n",
       "      <td>25.0</td>\n",
       "      <td>31.950000</td>\n",
       "      <td>0</td>\n",
       "      <td>2</td>\n",
       "      <td>0</td>\n",
       "      <td>172.7</td>\n",
       "      <td>0</td>\n",
       "      <td>0</td>\n",
       "      <td>5</td>\n",
       "      <td>...</td>\n",
       "      <td>0.0</td>\n",
       "      <td>0.0</td>\n",
       "      <td>0.0</td>\n",
       "      <td>0.0</td>\n",
       "      <td>0.0</td>\n",
       "      <td>0.0</td>\n",
       "      <td>0.0</td>\n",
       "      <td>0.0</td>\n",
       "      <td>5</td>\n",
       "      <td>3</td>\n",
       "    </tr>\n",
       "    <tr>\n",
       "      <th>3</th>\n",
       "      <td>0</td>\n",
       "      <td>81.0</td>\n",
       "      <td>22.640000</td>\n",
       "      <td>1</td>\n",
       "      <td>2</td>\n",
       "      <td>0</td>\n",
       "      <td>165.1</td>\n",
       "      <td>2</td>\n",
       "      <td>0</td>\n",
       "      <td>2</td>\n",
       "      <td>...</td>\n",
       "      <td>0.0</td>\n",
       "      <td>0.0</td>\n",
       "      <td>0.0</td>\n",
       "      <td>0.0</td>\n",
       "      <td>0.0</td>\n",
       "      <td>0.0</td>\n",
       "      <td>0.0</td>\n",
       "      <td>0.0</td>\n",
       "      <td>0</td>\n",
       "      <td>0</td>\n",
       "    </tr>\n",
       "    <tr>\n",
       "      <th>4</th>\n",
       "      <td>0</td>\n",
       "      <td>19.0</td>\n",
       "      <td>29.190000</td>\n",
       "      <td>0</td>\n",
       "      <td>2</td>\n",
       "      <td>1</td>\n",
       "      <td>188.0</td>\n",
       "      <td>0</td>\n",
       "      <td>0</td>\n",
       "      <td>5</td>\n",
       "      <td>...</td>\n",
       "      <td>0.0</td>\n",
       "      <td>0.0</td>\n",
       "      <td>0.0</td>\n",
       "      <td>0.0</td>\n",
       "      <td>0.0</td>\n",
       "      <td>0.0</td>\n",
       "      <td>0.0</td>\n",
       "      <td>0.0</td>\n",
       "      <td>10</td>\n",
       "      <td>7</td>\n",
       "    </tr>\n",
       "    <tr>\n",
       "      <th>...</th>\n",
       "      <td>...</td>\n",
       "      <td>...</td>\n",
       "      <td>...</td>\n",
       "      <td>...</td>\n",
       "      <td>...</td>\n",
       "      <td>...</td>\n",
       "      <td>...</td>\n",
       "      <td>...</td>\n",
       "      <td>...</td>\n",
       "      <td>...</td>\n",
       "      <td>...</td>\n",
       "      <td>...</td>\n",
       "      <td>...</td>\n",
       "      <td>...</td>\n",
       "      <td>...</td>\n",
       "      <td>...</td>\n",
       "      <td>...</td>\n",
       "      <td>...</td>\n",
       "      <td>...</td>\n",
       "      <td>...</td>\n",
       "      <td>...</td>\n",
       "    </tr>\n",
       "    <tr>\n",
       "      <th>91708</th>\n",
       "      <td>0</td>\n",
       "      <td>75.0</td>\n",
       "      <td>23.060250</td>\n",
       "      <td>0</td>\n",
       "      <td>2</td>\n",
       "      <td>1</td>\n",
       "      <td>177.8</td>\n",
       "      <td>1</td>\n",
       "      <td>0</td>\n",
       "      <td>3</td>\n",
       "      <td>...</td>\n",
       "      <td>0.0</td>\n",
       "      <td>0.0</td>\n",
       "      <td>1.0</td>\n",
       "      <td>0.0</td>\n",
       "      <td>0.0</td>\n",
       "      <td>0.0</td>\n",
       "      <td>0.0</td>\n",
       "      <td>1.0</td>\n",
       "      <td>9</td>\n",
       "      <td>0</td>\n",
       "    </tr>\n",
       "    <tr>\n",
       "      <th>91709</th>\n",
       "      <td>0</td>\n",
       "      <td>56.0</td>\n",
       "      <td>47.179671</td>\n",
       "      <td>0</td>\n",
       "      <td>2</td>\n",
       "      <td>0</td>\n",
       "      <td>183.0</td>\n",
       "      <td>1</td>\n",
       "      <td>0</td>\n",
       "      <td>5</td>\n",
       "      <td>...</td>\n",
       "      <td>0.0</td>\n",
       "      <td>0.0</td>\n",
       "      <td>0.0</td>\n",
       "      <td>0.0</td>\n",
       "      <td>0.0</td>\n",
       "      <td>0.0</td>\n",
       "      <td>0.0</td>\n",
       "      <td>0.0</td>\n",
       "      <td>9</td>\n",
       "      <td>0</td>\n",
       "    </tr>\n",
       "    <tr>\n",
       "      <th>91710</th>\n",
       "      <td>0</td>\n",
       "      <td>48.0</td>\n",
       "      <td>27.236914</td>\n",
       "      <td>0</td>\n",
       "      <td>2</td>\n",
       "      <td>1</td>\n",
       "      <td>170.2</td>\n",
       "      <td>0</td>\n",
       "      <td>0</td>\n",
       "      <td>5</td>\n",
       "      <td>...</td>\n",
       "      <td>0.0</td>\n",
       "      <td>0.0</td>\n",
       "      <td>1.0</td>\n",
       "      <td>0.0</td>\n",
       "      <td>0.0</td>\n",
       "      <td>0.0</td>\n",
       "      <td>0.0</td>\n",
       "      <td>0.0</td>\n",
       "      <td>5</td>\n",
       "      <td>3</td>\n",
       "    </tr>\n",
       "    <tr>\n",
       "      <th>91711</th>\n",
       "      <td>0</td>\n",
       "      <td>62.0</td>\n",
       "      <td>23.297481</td>\n",
       "      <td>0</td>\n",
       "      <td>2</td>\n",
       "      <td>0</td>\n",
       "      <td>154.9</td>\n",
       "      <td>0</td>\n",
       "      <td>0</td>\n",
       "      <td>5</td>\n",
       "      <td>...</td>\n",
       "      <td>0.0</td>\n",
       "      <td>0.0</td>\n",
       "      <td>0.0</td>\n",
       "      <td>0.0</td>\n",
       "      <td>0.0</td>\n",
       "      <td>0.0</td>\n",
       "      <td>0.0</td>\n",
       "      <td>0.0</td>\n",
       "      <td>8</td>\n",
       "      <td>6</td>\n",
       "    </tr>\n",
       "    <tr>\n",
       "      <th>91712</th>\n",
       "      <td>0</td>\n",
       "      <td>82.0</td>\n",
       "      <td>22.031250</td>\n",
       "      <td>1</td>\n",
       "      <td>2</td>\n",
       "      <td>0</td>\n",
       "      <td>160.0</td>\n",
       "      <td>2</td>\n",
       "      <td>0</td>\n",
       "      <td>5</td>\n",
       "      <td>...</td>\n",
       "      <td>0.0</td>\n",
       "      <td>0.0</td>\n",
       "      <td>0.0</td>\n",
       "      <td>0.0</td>\n",
       "      <td>0.0</td>\n",
       "      <td>0.0</td>\n",
       "      <td>0.0</td>\n",
       "      <td>0.0</td>\n",
       "      <td>1</td>\n",
       "      <td>1</td>\n",
       "    </tr>\n",
       "  </tbody>\n",
       "</table>\n",
       "<p>91713 rows × 103 columns</p>\n",
       "</div>"
      ],
      "text/plain": [
       "       hospital_death   age        bmi  elective_surgery  ethnicity  gender  \\\n",
       "0                   0  68.0  22.730000                 0          2       1   \n",
       "1                   0  77.0  27.420000                 0          2       0   \n",
       "2                   0  25.0  31.950000                 0          2       0   \n",
       "3                   0  81.0  22.640000                 1          2       0   \n",
       "4                   0  19.0  29.190000                 0          2       1   \n",
       "...               ...   ...        ...               ...        ...     ...   \n",
       "91708               0  75.0  23.060250                 0          2       1   \n",
       "91709               0  56.0  47.179671                 0          2       0   \n",
       "91710               0  48.0  27.236914                 0          2       1   \n",
       "91711               0  62.0  23.297481                 0          2       0   \n",
       "91712               0  82.0  22.031250                 1          2       0   \n",
       "\n",
       "       height  icu_admit_source  icu_stay_type  icu_type  ...  aids  \\\n",
       "0       180.3                 1              0         2  ...   0.0   \n",
       "1       160.0                 1              0         5  ...   0.0   \n",
       "2       172.7                 0              0         5  ...   0.0   \n",
       "3       165.1                 2              0         2  ...   0.0   \n",
       "4       188.0                 0              0         5  ...   0.0   \n",
       "...       ...               ...            ...       ...  ...   ...   \n",
       "91708   177.8                 1              0         3  ...   0.0   \n",
       "91709   183.0                 1              0         5  ...   0.0   \n",
       "91710   170.2                 0              0         5  ...   0.0   \n",
       "91711   154.9                 0              0         5  ...   0.0   \n",
       "91712   160.0                 2              0         5  ...   0.0   \n",
       "\n",
       "       cirrhosis  diabetes_mellitus  hepatic_failure  immunosuppression  \\\n",
       "0            0.0                1.0              0.0                0.0   \n",
       "1            0.0                1.0              0.0                0.0   \n",
       "2            0.0                0.0              0.0                0.0   \n",
       "3            0.0                0.0              0.0                0.0   \n",
       "4            0.0                0.0              0.0                0.0   \n",
       "...          ...                ...              ...                ...   \n",
       "91708        0.0                1.0              0.0                0.0   \n",
       "91709        0.0                0.0              0.0                0.0   \n",
       "91710        0.0                1.0              0.0                0.0   \n",
       "91711        0.0                0.0              0.0                0.0   \n",
       "91712        0.0                0.0              0.0                0.0   \n",
       "\n",
       "       leukemia  lymphoma  solid_tumor_with_metastasis  apache_3j_bodysystem  \\\n",
       "0           0.0       0.0                          0.0                     9   \n",
       "1           0.0       0.0                          0.0                     8   \n",
       "2           0.0       0.0                          0.0                     5   \n",
       "3           0.0       0.0                          0.0                     0   \n",
       "4           0.0       0.0                          0.0                    10   \n",
       "...         ...       ...                          ...                   ...   \n",
       "91708       0.0       0.0                          1.0                     9   \n",
       "91709       0.0       0.0                          0.0                     9   \n",
       "91710       0.0       0.0                          0.0                     5   \n",
       "91711       0.0       0.0                          0.0                     8   \n",
       "91712       0.0       0.0                          0.0                     1   \n",
       "\n",
       "       apache_2_bodysystem  \n",
       "0                        0  \n",
       "1                        6  \n",
       "2                        3  \n",
       "3                        0  \n",
       "4                        7  \n",
       "...                    ...  \n",
       "91708                    0  \n",
       "91709                    0  \n",
       "91710                    3  \n",
       "91711                    6  \n",
       "91712                    1  \n",
       "\n",
       "[91713 rows x 103 columns]"
      ]
     },
     "execution_count": 98,
     "metadata": {},
     "output_type": "execute_result"
    }
   ],
   "source": [
    "dataset"
   ]
  },
  {
   "cell_type": "code",
   "execution_count": 99,
   "id": "0b73b25d",
   "metadata": {},
   "outputs": [],
   "source": [
    "corr_dataset = dataset"
   ]
  },
  {
   "cell_type": "code",
   "execution_count": 100,
   "id": "c1ddf1c0",
   "metadata": {},
   "outputs": [],
   "source": [
    "for column in corr_dataset.columns:\n",
    "    if column in cat_var:\n",
    "        corr_dataset=corr_dataset.drop([column], axis=1)\n",
    "    if column in cat_features:\n",
    "        corr_dataset=corr_dataset.drop([column], axis=1)"
   ]
  },
  {
   "cell_type": "code",
   "execution_count": 101,
   "id": "2b9a5ff7",
   "metadata": {},
   "outputs": [
    {
     "name": "stdout",
     "output_type": "stream",
     "text": [
      "                                    age       bmi    height  pre_icu_los_days  \\\n",
      "age                            1.000000  0.083308  0.105548          0.049158   \n",
      "bmi                            0.083308  1.000000  0.055653          0.001510   \n",
      "height                         0.105548  0.055653  1.000000          0.008050   \n",
      "pre_icu_los_days               0.049158  0.001510  0.008050          1.000000   \n",
      "weight                         0.122111  0.873688  0.385740          0.004369   \n",
      "...                                 ...       ...       ...               ...   \n",
      "d1_sodium_min                  0.035042  0.014991  0.022027          0.012661   \n",
      "d1_wbc_max                     0.002668  0.022188  0.011766          0.059000   \n",
      "d1_wbc_min                     0.001414  0.021455  0.016347          0.044841   \n",
      "apache_4a_hospital_death_prob  0.132538  0.031027  0.027468          0.056084   \n",
      "apache_4a_icu_death_prob       0.071151  0.012814  0.010867          0.035626   \n",
      "\n",
      "                                 weight  apache_2_diagnosis  \\\n",
      "age                            0.122111            0.022502   \n",
      "bmi                            0.873688            0.025317   \n",
      "height                         0.385740            0.001608   \n",
      "pre_icu_los_days               0.004369            0.081974   \n",
      "weight                         1.000000            0.026004   \n",
      "...                                 ...                 ...   \n",
      "d1_sodium_min                  0.025088            0.032834   \n",
      "d1_wbc_max                     0.015533            0.021373   \n",
      "d1_wbc_min                     0.013168            0.044489   \n",
      "apache_4a_hospital_death_prob  0.040822            0.089660   \n",
      "apache_4a_icu_death_prob       0.017106            0.089507   \n",
      "\n",
      "                               apache_3j_diagnosis  bun_apache  \\\n",
      "age                                       0.054868    0.205024   \n",
      "bmi                                       0.006358    0.043239   \n",
      "height                                    0.015092    0.017148   \n",
      "pre_icu_los_days                          0.088284    0.035771   \n",
      "weight                                    0.000548    0.046430   \n",
      "...                                            ...         ...   \n",
      "d1_sodium_min                             0.006995    0.029923   \n",
      "d1_wbc_max                                0.104512    0.108907   \n",
      "d1_wbc_min                                0.061007    0.105922   \n",
      "apache_4a_hospital_death_prob             0.088333    0.187228   \n",
      "apache_4a_icu_death_prob                  0.053350    0.148648   \n",
      "\n",
      "                               creatinine_apache  gcs_eyes_apache  ...  \\\n",
      "age                                     0.049487         0.025830  ...   \n",
      "bmi                                     0.060768         0.011991  ...   \n",
      "height                                  0.051517         0.008222  ...   \n",
      "pre_icu_los_days                        0.022716         0.023918  ...   \n",
      "weight                                  0.078089         0.008136  ...   \n",
      "...                                          ...              ...  ...   \n",
      "d1_sodium_min                           0.082501         0.079292  ...   \n",
      "d1_wbc_max                              0.057501         0.126196  ...   \n",
      "d1_wbc_min                              0.049063         0.079275  ...   \n",
      "apache_4a_hospital_death_prob           0.121552         0.374105  ...   \n",
      "apache_4a_icu_death_prob                0.105015         0.349828  ...   \n",
      "\n",
      "                               d1_platelets_max  d1_platelets_min  \\\n",
      "age                                    0.073720          0.073500   \n",
      "bmi                                    0.017363          0.016921   \n",
      "height                                 0.079762          0.079335   \n",
      "pre_icu_los_days                       0.021189          0.007914   \n",
      "weight                                 0.018309          0.018506   \n",
      "...                                         ...               ...   \n",
      "d1_sodium_min                          0.075463          0.069234   \n",
      "d1_wbc_max                             0.249991          0.182310   \n",
      "d1_wbc_min                             0.265101          0.260306   \n",
      "apache_4a_hospital_death_prob          0.011802          0.040150   \n",
      "apache_4a_icu_death_prob               0.011601          0.041818   \n",
      "\n",
      "                               d1_potassium_max  d1_potassium_min  \\\n",
      "age                                    0.056238          0.101998   \n",
      "bmi                                    0.081206          0.087020   \n",
      "height                                 0.050278          0.058948   \n",
      "pre_icu_los_days                       0.029284          0.019434   \n",
      "weight                                 0.097634          0.105963   \n",
      "...                                         ...               ...   \n",
      "d1_sodium_min                          0.158847          0.056168   \n",
      "d1_wbc_max                             0.156232          0.021985   \n",
      "d1_wbc_min                             0.098269          0.057874   \n",
      "apache_4a_hospital_death_prob          0.092881          0.005909   \n",
      "apache_4a_icu_death_prob               0.089352          0.017932   \n",
      "\n",
      "                               d1_sodium_max  d1_sodium_min  d1_wbc_max  \\\n",
      "age                                 0.006509       0.035042    0.002668   \n",
      "bmi                                 0.022694       0.014991    0.022188   \n",
      "height                              0.021281       0.022027    0.011766   \n",
      "pre_icu_los_days                    0.005772       0.012661    0.059000   \n",
      "weight                              0.031963       0.025088    0.015533   \n",
      "...                                      ...            ...         ...   \n",
      "d1_sodium_min                       0.827665       1.000000    0.047599   \n",
      "d1_wbc_max                          0.035866       0.047599    1.000000   \n",
      "d1_wbc_min                          0.017449       0.046108    0.918107   \n",
      "apache_4a_hospital_death_prob       0.076439       0.011701    0.121083   \n",
      "apache_4a_icu_death_prob            0.081227       0.013787    0.122518   \n",
      "\n",
      "                               d1_wbc_min  apache_4a_hospital_death_prob  \\\n",
      "age                              0.001414                       0.132538   \n",
      "bmi                              0.021455                       0.031027   \n",
      "height                           0.016347                       0.027468   \n",
      "pre_icu_los_days                 0.044841                       0.056084   \n",
      "weight                           0.013168                       0.040822   \n",
      "...                                   ...                            ...   \n",
      "d1_sodium_min                    0.046108                       0.011701   \n",
      "d1_wbc_max                       0.918107                       0.121083   \n",
      "d1_wbc_min                       1.000000                       0.093321   \n",
      "apache_4a_hospital_death_prob    0.093321                       1.000000   \n",
      "apache_4a_icu_death_prob         0.089427                       0.878949   \n",
      "\n",
      "                               apache_4a_icu_death_prob  \n",
      "age                                            0.071151  \n",
      "bmi                                            0.012814  \n",
      "height                                         0.010867  \n",
      "pre_icu_los_days                               0.035626  \n",
      "weight                                         0.017106  \n",
      "...                                                 ...  \n",
      "d1_sodium_min                                  0.013787  \n",
      "d1_wbc_max                                     0.122518  \n",
      "d1_wbc_min                                     0.089427  \n",
      "apache_4a_hospital_death_prob                  0.878949  \n",
      "apache_4a_icu_death_prob                       1.000000  \n",
      "\n",
      "[81 rows x 81 columns]\n",
      "                               age       bmi    height  pre_icu_los_days  \\\n",
      "age                            NaN  0.083308  0.105548          0.049158   \n",
      "bmi                            NaN       NaN  0.055653          0.001510   \n",
      "height                         NaN       NaN       NaN          0.008050   \n",
      "pre_icu_los_days               NaN       NaN       NaN               NaN   \n",
      "weight                         NaN       NaN       NaN               NaN   \n",
      "...                            ...       ...       ...               ...   \n",
      "d1_sodium_min                  NaN       NaN       NaN               NaN   \n",
      "d1_wbc_max                     NaN       NaN       NaN               NaN   \n",
      "d1_wbc_min                     NaN       NaN       NaN               NaN   \n",
      "apache_4a_hospital_death_prob  NaN       NaN       NaN               NaN   \n",
      "apache_4a_icu_death_prob       NaN       NaN       NaN               NaN   \n",
      "\n",
      "                                 weight  apache_2_diagnosis  \\\n",
      "age                            0.122111            0.022502   \n",
      "bmi                            0.873688            0.025317   \n",
      "height                         0.385740            0.001608   \n",
      "pre_icu_los_days               0.004369            0.081974   \n",
      "weight                              NaN            0.026004   \n",
      "...                                 ...                 ...   \n",
      "d1_sodium_min                       NaN                 NaN   \n",
      "d1_wbc_max                          NaN                 NaN   \n",
      "d1_wbc_min                          NaN                 NaN   \n",
      "apache_4a_hospital_death_prob       NaN                 NaN   \n",
      "apache_4a_icu_death_prob            NaN                 NaN   \n",
      "\n",
      "                               apache_3j_diagnosis  bun_apache  \\\n",
      "age                                       0.054868    0.205024   \n",
      "bmi                                       0.006358    0.043239   \n",
      "height                                    0.015092    0.017148   \n",
      "pre_icu_los_days                          0.088284    0.035771   \n",
      "weight                                    0.000548    0.046430   \n",
      "...                                            ...         ...   \n",
      "d1_sodium_min                                  NaN         NaN   \n",
      "d1_wbc_max                                     NaN         NaN   \n",
      "d1_wbc_min                                     NaN         NaN   \n",
      "apache_4a_hospital_death_prob                  NaN         NaN   \n",
      "apache_4a_icu_death_prob                       NaN         NaN   \n",
      "\n",
      "                               creatinine_apache  gcs_eyes_apache  ...  \\\n",
      "age                                     0.049487         0.025830  ...   \n",
      "bmi                                     0.060768         0.011991  ...   \n",
      "height                                  0.051517         0.008222  ...   \n",
      "pre_icu_los_days                        0.022716         0.023918  ...   \n",
      "weight                                  0.078089         0.008136  ...   \n",
      "...                                          ...              ...  ...   \n",
      "d1_sodium_min                                NaN              NaN  ...   \n",
      "d1_wbc_max                                   NaN              NaN  ...   \n",
      "d1_wbc_min                                   NaN              NaN  ...   \n",
      "apache_4a_hospital_death_prob                NaN              NaN  ...   \n",
      "apache_4a_icu_death_prob                     NaN              NaN  ...   \n",
      "\n",
      "                               d1_platelets_max  d1_platelets_min  \\\n",
      "age                                    0.073720          0.073500   \n",
      "bmi                                    0.017363          0.016921   \n",
      "height                                 0.079762          0.079335   \n",
      "pre_icu_los_days                       0.021189          0.007914   \n",
      "weight                                 0.018309          0.018506   \n",
      "...                                         ...               ...   \n",
      "d1_sodium_min                               NaN               NaN   \n",
      "d1_wbc_max                                  NaN               NaN   \n",
      "d1_wbc_min                                  NaN               NaN   \n",
      "apache_4a_hospital_death_prob               NaN               NaN   \n",
      "apache_4a_icu_death_prob                    NaN               NaN   \n",
      "\n",
      "                               d1_potassium_max  d1_potassium_min  \\\n",
      "age                                    0.056238          0.101998   \n",
      "bmi                                    0.081206          0.087020   \n",
      "height                                 0.050278          0.058948   \n",
      "pre_icu_los_days                       0.029284          0.019434   \n",
      "weight                                 0.097634          0.105963   \n",
      "...                                         ...               ...   \n",
      "d1_sodium_min                               NaN               NaN   \n",
      "d1_wbc_max                                  NaN               NaN   \n",
      "d1_wbc_min                                  NaN               NaN   \n",
      "apache_4a_hospital_death_prob               NaN               NaN   \n",
      "apache_4a_icu_death_prob                    NaN               NaN   \n",
      "\n",
      "                               d1_sodium_max  d1_sodium_min  d1_wbc_max  \\\n",
      "age                                 0.006509       0.035042    0.002668   \n",
      "bmi                                 0.022694       0.014991    0.022188   \n",
      "height                              0.021281       0.022027    0.011766   \n",
      "pre_icu_los_days                    0.005772       0.012661    0.059000   \n",
      "weight                              0.031963       0.025088    0.015533   \n",
      "...                                      ...            ...         ...   \n",
      "d1_sodium_min                            NaN            NaN    0.047599   \n",
      "d1_wbc_max                               NaN            NaN         NaN   \n",
      "d1_wbc_min                               NaN            NaN         NaN   \n",
      "apache_4a_hospital_death_prob            NaN            NaN         NaN   \n",
      "apache_4a_icu_death_prob                 NaN            NaN         NaN   \n",
      "\n",
      "                               d1_wbc_min  apache_4a_hospital_death_prob  \\\n",
      "age                              0.001414                       0.132538   \n",
      "bmi                              0.021455                       0.031027   \n",
      "height                           0.016347                       0.027468   \n",
      "pre_icu_los_days                 0.044841                       0.056084   \n",
      "weight                           0.013168                       0.040822   \n",
      "...                                   ...                            ...   \n",
      "d1_sodium_min                    0.046108                       0.011701   \n",
      "d1_wbc_max                       0.918107                       0.121083   \n",
      "d1_wbc_min                            NaN                       0.093321   \n",
      "apache_4a_hospital_death_prob         NaN                            NaN   \n",
      "apache_4a_icu_death_prob              NaN                            NaN   \n",
      "\n",
      "                               apache_4a_icu_death_prob  \n",
      "age                                            0.071151  \n",
      "bmi                                            0.012814  \n",
      "height                                         0.010867  \n",
      "pre_icu_los_days                               0.035626  \n",
      "weight                                         0.017106  \n",
      "...                                                 ...  \n",
      "d1_sodium_min                                  0.013787  \n",
      "d1_wbc_max                                     0.122518  \n",
      "d1_wbc_min                                     0.089427  \n",
      "apache_4a_hospital_death_prob                  0.878949  \n",
      "apache_4a_icu_death_prob                            NaN  \n",
      "\n",
      "[81 rows x 81 columns]\n"
     ]
    },
    {
     "name": "stderr",
     "output_type": "stream",
     "text": [
      "C:\\Users\\schama2\\AppData\\Local\\Temp/ipykernel_21000/2678321338.py:3: DeprecationWarning: `np.bool` is a deprecated alias for the builtin `bool`. To silence this warning, use `bool` by itself. Doing this will not modify any behavior and is safe. If you specifically wanted the numpy scalar type, use `np.bool_` here.\n",
      "Deprecated in NumPy 1.20; for more details and guidance: https://numpy.org/devdocs/release/1.20.0-notes.html#deprecations\n",
      "  corr_values = corr_mat.where(np.triu(np.ones(corr_mat.shape),k=1).astype(np.bool))\n"
     ]
    }
   ],
   "source": [
    "corr_mat = corr_dataset.corr().abs()\n",
    "print(corr_mat)\n",
    "corr_values = corr_mat.where(np.triu(np.ones(corr_mat.shape),k=1).astype(np.bool))\n",
    "print(corr_values)\n"
   ]
  },
  {
   "cell_type": "code",
   "execution_count": 102,
   "id": "b73ec040",
   "metadata": {},
   "outputs": [],
   "source": [
    "drop = [column for column in corr_values.columns if any(corr_values[column] > 0.90)]"
   ]
  },
  {
   "cell_type": "code",
   "execution_count": 103,
   "id": "ed34c661",
   "metadata": {},
   "outputs": [
    {
     "data": {
      "text/plain": [
       "['d1_diasbp_noninvasive_max',\n",
       " 'd1_diasbp_noninvasive_min',\n",
       " 'd1_mbp_noninvasive_max',\n",
       " 'd1_mbp_noninvasive_min',\n",
       " 'd1_sysbp_noninvasive_max',\n",
       " 'd1_sysbp_noninvasive_min',\n",
       " 'h1_diasbp_noninvasive_max',\n",
       " 'h1_diasbp_noninvasive_min',\n",
       " 'h1_mbp_noninvasive_max',\n",
       " 'h1_mbp_noninvasive_min',\n",
       " 'h1_sysbp_noninvasive_max',\n",
       " 'h1_sysbp_noninvasive_min',\n",
       " 'd1_bun_max',\n",
       " 'd1_bun_min',\n",
       " 'd1_creatinine_max',\n",
       " 'd1_creatinine_min',\n",
       " 'd1_glucose_max',\n",
       " 'd1_hematocrit_max',\n",
       " 'd1_hematocrit_min',\n",
       " 'd1_platelets_min',\n",
       " 'd1_wbc_min']"
      ]
     },
     "execution_count": 103,
     "metadata": {},
     "output_type": "execute_result"
    }
   ],
   "source": [
    "drop_columns = drop\n",
    "drop_columns"
   ]
  },
  {
   "cell_type": "code",
   "execution_count": 104,
   "id": "2d82245d",
   "metadata": {},
   "outputs": [],
   "source": [
    "corr_dataset= corr_dataset.drop(corr_dataset[drop_columns],axis=1)"
   ]
  },
  {
   "cell_type": "code",
   "execution_count": 105,
   "id": "0c9dfa27",
   "metadata": {},
   "outputs": [
    {
     "data": {
      "text/html": [
       "<div>\n",
       "<style scoped>\n",
       "    .dataframe tbody tr th:only-of-type {\n",
       "        vertical-align: middle;\n",
       "    }\n",
       "\n",
       "    .dataframe tbody tr th {\n",
       "        vertical-align: top;\n",
       "    }\n",
       "\n",
       "    .dataframe thead th {\n",
       "        text-align: right;\n",
       "    }\n",
       "</style>\n",
       "<table border=\"1\" class=\"dataframe\">\n",
       "  <thead>\n",
       "    <tr style=\"text-align: right;\">\n",
       "      <th></th>\n",
       "      <th>age</th>\n",
       "      <th>bmi</th>\n",
       "      <th>height</th>\n",
       "      <th>pre_icu_los_days</th>\n",
       "      <th>weight</th>\n",
       "      <th>apache_2_diagnosis</th>\n",
       "      <th>apache_3j_diagnosis</th>\n",
       "      <th>bun_apache</th>\n",
       "      <th>creatinine_apache</th>\n",
       "      <th>gcs_eyes_apache</th>\n",
       "      <th>...</th>\n",
       "      <th>d1_hemaglobin_max</th>\n",
       "      <th>d1_hemaglobin_min</th>\n",
       "      <th>d1_platelets_max</th>\n",
       "      <th>d1_potassium_max</th>\n",
       "      <th>d1_potassium_min</th>\n",
       "      <th>d1_sodium_max</th>\n",
       "      <th>d1_sodium_min</th>\n",
       "      <th>d1_wbc_max</th>\n",
       "      <th>apache_4a_hospital_death_prob</th>\n",
       "      <th>apache_4a_icu_death_prob</th>\n",
       "    </tr>\n",
       "  </thead>\n",
       "  <tbody>\n",
       "    <tr>\n",
       "      <th>0</th>\n",
       "      <td>68.0</td>\n",
       "      <td>22.730000</td>\n",
       "      <td>180.3</td>\n",
       "      <td>0.541667</td>\n",
       "      <td>73.90</td>\n",
       "      <td>113.0</td>\n",
       "      <td>502.01</td>\n",
       "      <td>31.00</td>\n",
       "      <td>2.51</td>\n",
       "      <td>3.0</td>\n",
       "      <td>...</td>\n",
       "      <td>8.90</td>\n",
       "      <td>8.90</td>\n",
       "      <td>233.00</td>\n",
       "      <td>4.00</td>\n",
       "      <td>3.40</td>\n",
       "      <td>136.00</td>\n",
       "      <td>134.00</td>\n",
       "      <td>14.10</td>\n",
       "      <td>0.10</td>\n",
       "      <td>0.05</td>\n",
       "    </tr>\n",
       "    <tr>\n",
       "      <th>1</th>\n",
       "      <td>77.0</td>\n",
       "      <td>27.420000</td>\n",
       "      <td>160.0</td>\n",
       "      <td>0.927778</td>\n",
       "      <td>70.20</td>\n",
       "      <td>108.0</td>\n",
       "      <td>203.01</td>\n",
       "      <td>9.00</td>\n",
       "      <td>0.56</td>\n",
       "      <td>1.0</td>\n",
       "      <td>...</td>\n",
       "      <td>11.30</td>\n",
       "      <td>11.10</td>\n",
       "      <td>557.00</td>\n",
       "      <td>4.20</td>\n",
       "      <td>3.80</td>\n",
       "      <td>145.00</td>\n",
       "      <td>145.00</td>\n",
       "      <td>23.30</td>\n",
       "      <td>0.47</td>\n",
       "      <td>0.29</td>\n",
       "    </tr>\n",
       "    <tr>\n",
       "      <th>2</th>\n",
       "      <td>25.0</td>\n",
       "      <td>31.950000</td>\n",
       "      <td>172.7</td>\n",
       "      <td>0.000694</td>\n",
       "      <td>95.30</td>\n",
       "      <td>122.0</td>\n",
       "      <td>703.03</td>\n",
       "      <td>25.83</td>\n",
       "      <td>1.48</td>\n",
       "      <td>3.0</td>\n",
       "      <td>...</td>\n",
       "      <td>11.45</td>\n",
       "      <td>10.89</td>\n",
       "      <td>207.11</td>\n",
       "      <td>4.25</td>\n",
       "      <td>3.93</td>\n",
       "      <td>139.12</td>\n",
       "      <td>137.72</td>\n",
       "      <td>12.48</td>\n",
       "      <td>0.00</td>\n",
       "      <td>0.00</td>\n",
       "    </tr>\n",
       "    <tr>\n",
       "      <th>3</th>\n",
       "      <td>81.0</td>\n",
       "      <td>22.640000</td>\n",
       "      <td>165.1</td>\n",
       "      <td>0.000694</td>\n",
       "      <td>61.70</td>\n",
       "      <td>203.0</td>\n",
       "      <td>1206.03</td>\n",
       "      <td>25.83</td>\n",
       "      <td>1.48</td>\n",
       "      <td>4.0</td>\n",
       "      <td>...</td>\n",
       "      <td>11.60</td>\n",
       "      <td>8.90</td>\n",
       "      <td>198.00</td>\n",
       "      <td>5.00</td>\n",
       "      <td>3.50</td>\n",
       "      <td>139.12</td>\n",
       "      <td>137.72</td>\n",
       "      <td>9.00</td>\n",
       "      <td>0.04</td>\n",
       "      <td>0.03</td>\n",
       "    </tr>\n",
       "    <tr>\n",
       "      <th>4</th>\n",
       "      <td>19.0</td>\n",
       "      <td>29.190000</td>\n",
       "      <td>188.0</td>\n",
       "      <td>0.073611</td>\n",
       "      <td>84.03</td>\n",
       "      <td>119.0</td>\n",
       "      <td>601.01</td>\n",
       "      <td>25.83</td>\n",
       "      <td>1.48</td>\n",
       "      <td>3.0</td>\n",
       "      <td>...</td>\n",
       "      <td>11.45</td>\n",
       "      <td>10.89</td>\n",
       "      <td>207.11</td>\n",
       "      <td>4.25</td>\n",
       "      <td>3.93</td>\n",
       "      <td>139.12</td>\n",
       "      <td>137.72</td>\n",
       "      <td>12.48</td>\n",
       "      <td>0.09</td>\n",
       "      <td>0.04</td>\n",
       "    </tr>\n",
       "    <tr>\n",
       "      <th>...</th>\n",
       "      <td>...</td>\n",
       "      <td>...</td>\n",
       "      <td>...</td>\n",
       "      <td>...</td>\n",
       "      <td>...</td>\n",
       "      <td>...</td>\n",
       "      <td>...</td>\n",
       "      <td>...</td>\n",
       "      <td>...</td>\n",
       "      <td>...</td>\n",
       "      <td>...</td>\n",
       "      <td>...</td>\n",
       "      <td>...</td>\n",
       "      <td>...</td>\n",
       "      <td>...</td>\n",
       "      <td>...</td>\n",
       "      <td>...</td>\n",
       "      <td>...</td>\n",
       "      <td>...</td>\n",
       "      <td>...</td>\n",
       "      <td>...</td>\n",
       "    </tr>\n",
       "    <tr>\n",
       "      <th>91708</th>\n",
       "      <td>75.0</td>\n",
       "      <td>23.060250</td>\n",
       "      <td>177.8</td>\n",
       "      <td>0.298611</td>\n",
       "      <td>72.90</td>\n",
       "      <td>113.0</td>\n",
       "      <td>501.06</td>\n",
       "      <td>25.83</td>\n",
       "      <td>1.48</td>\n",
       "      <td>4.0</td>\n",
       "      <td>...</td>\n",
       "      <td>13.20</td>\n",
       "      <td>13.20</td>\n",
       "      <td>92.00</td>\n",
       "      <td>4.20</td>\n",
       "      <td>4.20</td>\n",
       "      <td>140.00</td>\n",
       "      <td>140.00</td>\n",
       "      <td>5.68</td>\n",
       "      <td>0.12</td>\n",
       "      <td>0.05</td>\n",
       "    </tr>\n",
       "    <tr>\n",
       "      <th>91709</th>\n",
       "      <td>56.0</td>\n",
       "      <td>47.179671</td>\n",
       "      <td>183.0</td>\n",
       "      <td>0.120139</td>\n",
       "      <td>158.00</td>\n",
       "      <td>113.0</td>\n",
       "      <td>501.05</td>\n",
       "      <td>34.00</td>\n",
       "      <td>2.30</td>\n",
       "      <td>4.0</td>\n",
       "      <td>...</td>\n",
       "      <td>10.50</td>\n",
       "      <td>10.50</td>\n",
       "      <td>133.00</td>\n",
       "      <td>3.80</td>\n",
       "      <td>3.80</td>\n",
       "      <td>136.00</td>\n",
       "      <td>136.00</td>\n",
       "      <td>4.22</td>\n",
       "      <td>0.03</td>\n",
       "      <td>0.02</td>\n",
       "    </tr>\n",
       "    <tr>\n",
       "      <th>91710</th>\n",
       "      <td>48.0</td>\n",
       "      <td>27.236914</td>\n",
       "      <td>170.2</td>\n",
       "      <td>0.046528</td>\n",
       "      <td>78.90</td>\n",
       "      <td>123.0</td>\n",
       "      <td>702.01</td>\n",
       "      <td>33.00</td>\n",
       "      <td>2.30</td>\n",
       "      <td>3.0</td>\n",
       "      <td>...</td>\n",
       "      <td>12.30</td>\n",
       "      <td>12.30</td>\n",
       "      <td>227.00</td>\n",
       "      <td>4.70</td>\n",
       "      <td>3.20</td>\n",
       "      <td>139.00</td>\n",
       "      <td>135.00</td>\n",
       "      <td>17.55</td>\n",
       "      <td>0.05</td>\n",
       "      <td>0.02</td>\n",
       "    </tr>\n",
       "    <tr>\n",
       "      <th>91711</th>\n",
       "      <td>62.0</td>\n",
       "      <td>23.297481</td>\n",
       "      <td>154.9</td>\n",
       "      <td>0.081944</td>\n",
       "      <td>55.90</td>\n",
       "      <td>108.0</td>\n",
       "      <td>203.01</td>\n",
       "      <td>25.83</td>\n",
       "      <td>1.48</td>\n",
       "      <td>4.0</td>\n",
       "      <td>...</td>\n",
       "      <td>11.45</td>\n",
       "      <td>10.89</td>\n",
       "      <td>207.11</td>\n",
       "      <td>4.25</td>\n",
       "      <td>3.93</td>\n",
       "      <td>139.12</td>\n",
       "      <td>137.72</td>\n",
       "      <td>12.48</td>\n",
       "      <td>0.07</td>\n",
       "      <td>0.02</td>\n",
       "    </tr>\n",
       "    <tr>\n",
       "      <th>91712</th>\n",
       "      <td>82.0</td>\n",
       "      <td>22.031250</td>\n",
       "      <td>160.0</td>\n",
       "      <td>0.018056</td>\n",
       "      <td>56.40</td>\n",
       "      <td>304.0</td>\n",
       "      <td>1409.02</td>\n",
       "      <td>27.00</td>\n",
       "      <td>1.50</td>\n",
       "      <td>4.0</td>\n",
       "      <td>...</td>\n",
       "      <td>11.90</td>\n",
       "      <td>11.90</td>\n",
       "      <td>420.00</td>\n",
       "      <td>4.90</td>\n",
       "      <td>4.90</td>\n",
       "      <td>132.00</td>\n",
       "      <td>132.00</td>\n",
       "      <td>24.40</td>\n",
       "      <td>0.19</td>\n",
       "      <td>0.08</td>\n",
       "    </tr>\n",
       "  </tbody>\n",
       "</table>\n",
       "<p>91713 rows × 60 columns</p>\n",
       "</div>"
      ],
      "text/plain": [
       "        age        bmi  height  pre_icu_los_days  weight  apache_2_diagnosis  \\\n",
       "0      68.0  22.730000   180.3          0.541667   73.90               113.0   \n",
       "1      77.0  27.420000   160.0          0.927778   70.20               108.0   \n",
       "2      25.0  31.950000   172.7          0.000694   95.30               122.0   \n",
       "3      81.0  22.640000   165.1          0.000694   61.70               203.0   \n",
       "4      19.0  29.190000   188.0          0.073611   84.03               119.0   \n",
       "...     ...        ...     ...               ...     ...                 ...   \n",
       "91708  75.0  23.060250   177.8          0.298611   72.90               113.0   \n",
       "91709  56.0  47.179671   183.0          0.120139  158.00               113.0   \n",
       "91710  48.0  27.236914   170.2          0.046528   78.90               123.0   \n",
       "91711  62.0  23.297481   154.9          0.081944   55.90               108.0   \n",
       "91712  82.0  22.031250   160.0          0.018056   56.40               304.0   \n",
       "\n",
       "       apache_3j_diagnosis  bun_apache  creatinine_apache  gcs_eyes_apache  \\\n",
       "0                   502.01       31.00               2.51              3.0   \n",
       "1                   203.01        9.00               0.56              1.0   \n",
       "2                   703.03       25.83               1.48              3.0   \n",
       "3                  1206.03       25.83               1.48              4.0   \n",
       "4                   601.01       25.83               1.48              3.0   \n",
       "...                    ...         ...                ...              ...   \n",
       "91708               501.06       25.83               1.48              4.0   \n",
       "91709               501.05       34.00               2.30              4.0   \n",
       "91710               702.01       33.00               2.30              3.0   \n",
       "91711               203.01       25.83               1.48              4.0   \n",
       "91712              1409.02       27.00               1.50              4.0   \n",
       "\n",
       "       ...  d1_hemaglobin_max  d1_hemaglobin_min  d1_platelets_max  \\\n",
       "0      ...               8.90               8.90            233.00   \n",
       "1      ...              11.30              11.10            557.00   \n",
       "2      ...              11.45              10.89            207.11   \n",
       "3      ...              11.60               8.90            198.00   \n",
       "4      ...              11.45              10.89            207.11   \n",
       "...    ...                ...                ...               ...   \n",
       "91708  ...              13.20              13.20             92.00   \n",
       "91709  ...              10.50              10.50            133.00   \n",
       "91710  ...              12.30              12.30            227.00   \n",
       "91711  ...              11.45              10.89            207.11   \n",
       "91712  ...              11.90              11.90            420.00   \n",
       "\n",
       "       d1_potassium_max  d1_potassium_min  d1_sodium_max  d1_sodium_min  \\\n",
       "0                  4.00              3.40         136.00         134.00   \n",
       "1                  4.20              3.80         145.00         145.00   \n",
       "2                  4.25              3.93         139.12         137.72   \n",
       "3                  5.00              3.50         139.12         137.72   \n",
       "4                  4.25              3.93         139.12         137.72   \n",
       "...                 ...               ...            ...            ...   \n",
       "91708              4.20              4.20         140.00         140.00   \n",
       "91709              3.80              3.80         136.00         136.00   \n",
       "91710              4.70              3.20         139.00         135.00   \n",
       "91711              4.25              3.93         139.12         137.72   \n",
       "91712              4.90              4.90         132.00         132.00   \n",
       "\n",
       "       d1_wbc_max  apache_4a_hospital_death_prob  apache_4a_icu_death_prob  \n",
       "0           14.10                           0.10                      0.05  \n",
       "1           23.30                           0.47                      0.29  \n",
       "2           12.48                           0.00                      0.00  \n",
       "3            9.00                           0.04                      0.03  \n",
       "4           12.48                           0.09                      0.04  \n",
       "...           ...                            ...                       ...  \n",
       "91708        5.68                           0.12                      0.05  \n",
       "91709        4.22                           0.03                      0.02  \n",
       "91710       17.55                           0.05                      0.02  \n",
       "91711       12.48                           0.07                      0.02  \n",
       "91712       24.40                           0.19                      0.08  \n",
       "\n",
       "[91713 rows x 60 columns]"
      ]
     },
     "execution_count": 105,
     "metadata": {},
     "output_type": "execute_result"
    }
   ],
   "source": [
    "corr_dataset"
   ]
  },
  {
   "cell_type": "code",
   "execution_count": 106,
   "id": "278b8c38",
   "metadata": {},
   "outputs": [],
   "source": [
    "for feature in cat_features:\n",
    "    corr_dataset[feature] = dataset[feature]"
   ]
  },
  {
   "cell_type": "code",
   "execution_count": 107,
   "id": "89d833fb",
   "metadata": {},
   "outputs": [],
   "source": [
    "for feature in cat_var:\n",
    "    corr_dataset[feature] = dataset[feature]\n",
    "    "
   ]
  },
  {
   "cell_type": "code",
   "execution_count": 108,
   "id": "86473201",
   "metadata": {},
   "outputs": [
    {
     "data": {
      "text/html": [
       "<div>\n",
       "<style scoped>\n",
       "    .dataframe tbody tr th:only-of-type {\n",
       "        vertical-align: middle;\n",
       "    }\n",
       "\n",
       "    .dataframe tbody tr th {\n",
       "        vertical-align: top;\n",
       "    }\n",
       "\n",
       "    .dataframe thead th {\n",
       "        text-align: right;\n",
       "    }\n",
       "</style>\n",
       "<table border=\"1\" class=\"dataframe\">\n",
       "  <thead>\n",
       "    <tr style=\"text-align: right;\">\n",
       "      <th></th>\n",
       "      <th>age</th>\n",
       "      <th>bmi</th>\n",
       "      <th>height</th>\n",
       "      <th>pre_icu_los_days</th>\n",
       "      <th>weight</th>\n",
       "      <th>apache_2_diagnosis</th>\n",
       "      <th>apache_3j_diagnosis</th>\n",
       "      <th>bun_apache</th>\n",
       "      <th>creatinine_apache</th>\n",
       "      <th>gcs_eyes_apache</th>\n",
       "      <th>...</th>\n",
       "      <th>intubated_apache</th>\n",
       "      <th>ventilated_apache</th>\n",
       "      <th>aids</th>\n",
       "      <th>cirrhosis</th>\n",
       "      <th>diabetes_mellitus</th>\n",
       "      <th>hepatic_failure</th>\n",
       "      <th>immunosuppression</th>\n",
       "      <th>leukemia</th>\n",
       "      <th>lymphoma</th>\n",
       "      <th>solid_tumor_with_metastasis</th>\n",
       "    </tr>\n",
       "  </thead>\n",
       "  <tbody>\n",
       "    <tr>\n",
       "      <th>0</th>\n",
       "      <td>68.0</td>\n",
       "      <td>22.730000</td>\n",
       "      <td>180.3</td>\n",
       "      <td>0.541667</td>\n",
       "      <td>73.90</td>\n",
       "      <td>113.0</td>\n",
       "      <td>502.01</td>\n",
       "      <td>31.00</td>\n",
       "      <td>2.51</td>\n",
       "      <td>3.0</td>\n",
       "      <td>...</td>\n",
       "      <td>0.0</td>\n",
       "      <td>0.0</td>\n",
       "      <td>0.0</td>\n",
       "      <td>0.0</td>\n",
       "      <td>1.0</td>\n",
       "      <td>0.0</td>\n",
       "      <td>0.0</td>\n",
       "      <td>0.0</td>\n",
       "      <td>0.0</td>\n",
       "      <td>0.0</td>\n",
       "    </tr>\n",
       "    <tr>\n",
       "      <th>1</th>\n",
       "      <td>77.0</td>\n",
       "      <td>27.420000</td>\n",
       "      <td>160.0</td>\n",
       "      <td>0.927778</td>\n",
       "      <td>70.20</td>\n",
       "      <td>108.0</td>\n",
       "      <td>203.01</td>\n",
       "      <td>9.00</td>\n",
       "      <td>0.56</td>\n",
       "      <td>1.0</td>\n",
       "      <td>...</td>\n",
       "      <td>0.0</td>\n",
       "      <td>1.0</td>\n",
       "      <td>0.0</td>\n",
       "      <td>0.0</td>\n",
       "      <td>1.0</td>\n",
       "      <td>0.0</td>\n",
       "      <td>0.0</td>\n",
       "      <td>0.0</td>\n",
       "      <td>0.0</td>\n",
       "      <td>0.0</td>\n",
       "    </tr>\n",
       "    <tr>\n",
       "      <th>2</th>\n",
       "      <td>25.0</td>\n",
       "      <td>31.950000</td>\n",
       "      <td>172.7</td>\n",
       "      <td>0.000694</td>\n",
       "      <td>95.30</td>\n",
       "      <td>122.0</td>\n",
       "      <td>703.03</td>\n",
       "      <td>25.83</td>\n",
       "      <td>1.48</td>\n",
       "      <td>3.0</td>\n",
       "      <td>...</td>\n",
       "      <td>0.0</td>\n",
       "      <td>0.0</td>\n",
       "      <td>0.0</td>\n",
       "      <td>0.0</td>\n",
       "      <td>0.0</td>\n",
       "      <td>0.0</td>\n",
       "      <td>0.0</td>\n",
       "      <td>0.0</td>\n",
       "      <td>0.0</td>\n",
       "      <td>0.0</td>\n",
       "    </tr>\n",
       "    <tr>\n",
       "      <th>3</th>\n",
       "      <td>81.0</td>\n",
       "      <td>22.640000</td>\n",
       "      <td>165.1</td>\n",
       "      <td>0.000694</td>\n",
       "      <td>61.70</td>\n",
       "      <td>203.0</td>\n",
       "      <td>1206.03</td>\n",
       "      <td>25.83</td>\n",
       "      <td>1.48</td>\n",
       "      <td>4.0</td>\n",
       "      <td>...</td>\n",
       "      <td>1.0</td>\n",
       "      <td>1.0</td>\n",
       "      <td>0.0</td>\n",
       "      <td>0.0</td>\n",
       "      <td>0.0</td>\n",
       "      <td>0.0</td>\n",
       "      <td>0.0</td>\n",
       "      <td>0.0</td>\n",
       "      <td>0.0</td>\n",
       "      <td>0.0</td>\n",
       "    </tr>\n",
       "    <tr>\n",
       "      <th>4</th>\n",
       "      <td>19.0</td>\n",
       "      <td>29.190000</td>\n",
       "      <td>188.0</td>\n",
       "      <td>0.073611</td>\n",
       "      <td>84.03</td>\n",
       "      <td>119.0</td>\n",
       "      <td>601.01</td>\n",
       "      <td>25.83</td>\n",
       "      <td>1.48</td>\n",
       "      <td>3.0</td>\n",
       "      <td>...</td>\n",
       "      <td>0.0</td>\n",
       "      <td>0.0</td>\n",
       "      <td>0.0</td>\n",
       "      <td>0.0</td>\n",
       "      <td>0.0</td>\n",
       "      <td>0.0</td>\n",
       "      <td>0.0</td>\n",
       "      <td>0.0</td>\n",
       "      <td>0.0</td>\n",
       "      <td>0.0</td>\n",
       "    </tr>\n",
       "    <tr>\n",
       "      <th>...</th>\n",
       "      <td>...</td>\n",
       "      <td>...</td>\n",
       "      <td>...</td>\n",
       "      <td>...</td>\n",
       "      <td>...</td>\n",
       "      <td>...</td>\n",
       "      <td>...</td>\n",
       "      <td>...</td>\n",
       "      <td>...</td>\n",
       "      <td>...</td>\n",
       "      <td>...</td>\n",
       "      <td>...</td>\n",
       "      <td>...</td>\n",
       "      <td>...</td>\n",
       "      <td>...</td>\n",
       "      <td>...</td>\n",
       "      <td>...</td>\n",
       "      <td>...</td>\n",
       "      <td>...</td>\n",
       "      <td>...</td>\n",
       "      <td>...</td>\n",
       "    </tr>\n",
       "    <tr>\n",
       "      <th>91708</th>\n",
       "      <td>75.0</td>\n",
       "      <td>23.060250</td>\n",
       "      <td>177.8</td>\n",
       "      <td>0.298611</td>\n",
       "      <td>72.90</td>\n",
       "      <td>113.0</td>\n",
       "      <td>501.06</td>\n",
       "      <td>25.83</td>\n",
       "      <td>1.48</td>\n",
       "      <td>4.0</td>\n",
       "      <td>...</td>\n",
       "      <td>0.0</td>\n",
       "      <td>1.0</td>\n",
       "      <td>0.0</td>\n",
       "      <td>0.0</td>\n",
       "      <td>1.0</td>\n",
       "      <td>0.0</td>\n",
       "      <td>0.0</td>\n",
       "      <td>0.0</td>\n",
       "      <td>0.0</td>\n",
       "      <td>1.0</td>\n",
       "    </tr>\n",
       "    <tr>\n",
       "      <th>91709</th>\n",
       "      <td>56.0</td>\n",
       "      <td>47.179671</td>\n",
       "      <td>183.0</td>\n",
       "      <td>0.120139</td>\n",
       "      <td>158.00</td>\n",
       "      <td>113.0</td>\n",
       "      <td>501.05</td>\n",
       "      <td>34.00</td>\n",
       "      <td>2.30</td>\n",
       "      <td>4.0</td>\n",
       "      <td>...</td>\n",
       "      <td>0.0</td>\n",
       "      <td>0.0</td>\n",
       "      <td>0.0</td>\n",
       "      <td>0.0</td>\n",
       "      <td>0.0</td>\n",
       "      <td>0.0</td>\n",
       "      <td>0.0</td>\n",
       "      <td>0.0</td>\n",
       "      <td>0.0</td>\n",
       "      <td>0.0</td>\n",
       "    </tr>\n",
       "    <tr>\n",
       "      <th>91710</th>\n",
       "      <td>48.0</td>\n",
       "      <td>27.236914</td>\n",
       "      <td>170.2</td>\n",
       "      <td>0.046528</td>\n",
       "      <td>78.90</td>\n",
       "      <td>123.0</td>\n",
       "      <td>702.01</td>\n",
       "      <td>33.00</td>\n",
       "      <td>2.30</td>\n",
       "      <td>3.0</td>\n",
       "      <td>...</td>\n",
       "      <td>0.0</td>\n",
       "      <td>0.0</td>\n",
       "      <td>0.0</td>\n",
       "      <td>0.0</td>\n",
       "      <td>1.0</td>\n",
       "      <td>0.0</td>\n",
       "      <td>0.0</td>\n",
       "      <td>0.0</td>\n",
       "      <td>0.0</td>\n",
       "      <td>0.0</td>\n",
       "    </tr>\n",
       "    <tr>\n",
       "      <th>91711</th>\n",
       "      <td>62.0</td>\n",
       "      <td>23.297481</td>\n",
       "      <td>154.9</td>\n",
       "      <td>0.081944</td>\n",
       "      <td>55.90</td>\n",
       "      <td>108.0</td>\n",
       "      <td>203.01</td>\n",
       "      <td>25.83</td>\n",
       "      <td>1.48</td>\n",
       "      <td>4.0</td>\n",
       "      <td>...</td>\n",
       "      <td>0.0</td>\n",
       "      <td>0.0</td>\n",
       "      <td>0.0</td>\n",
       "      <td>0.0</td>\n",
       "      <td>0.0</td>\n",
       "      <td>0.0</td>\n",
       "      <td>0.0</td>\n",
       "      <td>0.0</td>\n",
       "      <td>0.0</td>\n",
       "      <td>0.0</td>\n",
       "    </tr>\n",
       "    <tr>\n",
       "      <th>91712</th>\n",
       "      <td>82.0</td>\n",
       "      <td>22.031250</td>\n",
       "      <td>160.0</td>\n",
       "      <td>0.018056</td>\n",
       "      <td>56.40</td>\n",
       "      <td>304.0</td>\n",
       "      <td>1409.02</td>\n",
       "      <td>27.00</td>\n",
       "      <td>1.50</td>\n",
       "      <td>4.0</td>\n",
       "      <td>...</td>\n",
       "      <td>0.0</td>\n",
       "      <td>1.0</td>\n",
       "      <td>0.0</td>\n",
       "      <td>0.0</td>\n",
       "      <td>0.0</td>\n",
       "      <td>0.0</td>\n",
       "      <td>0.0</td>\n",
       "      <td>0.0</td>\n",
       "      <td>0.0</td>\n",
       "      <td>0.0</td>\n",
       "    </tr>\n",
       "  </tbody>\n",
       "</table>\n",
       "<p>91713 rows × 82 columns</p>\n",
       "</div>"
      ],
      "text/plain": [
       "        age        bmi  height  pre_icu_los_days  weight  apache_2_diagnosis  \\\n",
       "0      68.0  22.730000   180.3          0.541667   73.90               113.0   \n",
       "1      77.0  27.420000   160.0          0.927778   70.20               108.0   \n",
       "2      25.0  31.950000   172.7          0.000694   95.30               122.0   \n",
       "3      81.0  22.640000   165.1          0.000694   61.70               203.0   \n",
       "4      19.0  29.190000   188.0          0.073611   84.03               119.0   \n",
       "...     ...        ...     ...               ...     ...                 ...   \n",
       "91708  75.0  23.060250   177.8          0.298611   72.90               113.0   \n",
       "91709  56.0  47.179671   183.0          0.120139  158.00               113.0   \n",
       "91710  48.0  27.236914   170.2          0.046528   78.90               123.0   \n",
       "91711  62.0  23.297481   154.9          0.081944   55.90               108.0   \n",
       "91712  82.0  22.031250   160.0          0.018056   56.40               304.0   \n",
       "\n",
       "       apache_3j_diagnosis  bun_apache  creatinine_apache  gcs_eyes_apache  \\\n",
       "0                   502.01       31.00               2.51              3.0   \n",
       "1                   203.01        9.00               0.56              1.0   \n",
       "2                   703.03       25.83               1.48              3.0   \n",
       "3                  1206.03       25.83               1.48              4.0   \n",
       "4                   601.01       25.83               1.48              3.0   \n",
       "...                    ...         ...                ...              ...   \n",
       "91708               501.06       25.83               1.48              4.0   \n",
       "91709               501.05       34.00               2.30              4.0   \n",
       "91710               702.01       33.00               2.30              3.0   \n",
       "91711               203.01       25.83               1.48              4.0   \n",
       "91712              1409.02       27.00               1.50              4.0   \n",
       "\n",
       "       ...  intubated_apache  ventilated_apache  aids  cirrhosis  \\\n",
       "0      ...               0.0                0.0   0.0        0.0   \n",
       "1      ...               0.0                1.0   0.0        0.0   \n",
       "2      ...               0.0                0.0   0.0        0.0   \n",
       "3      ...               1.0                1.0   0.0        0.0   \n",
       "4      ...               0.0                0.0   0.0        0.0   \n",
       "...    ...               ...                ...   ...        ...   \n",
       "91708  ...               0.0                1.0   0.0        0.0   \n",
       "91709  ...               0.0                0.0   0.0        0.0   \n",
       "91710  ...               0.0                0.0   0.0        0.0   \n",
       "91711  ...               0.0                0.0   0.0        0.0   \n",
       "91712  ...               0.0                1.0   0.0        0.0   \n",
       "\n",
       "       diabetes_mellitus  hepatic_failure  immunosuppression  leukemia  \\\n",
       "0                    1.0              0.0                0.0       0.0   \n",
       "1                    1.0              0.0                0.0       0.0   \n",
       "2                    0.0              0.0                0.0       0.0   \n",
       "3                    0.0              0.0                0.0       0.0   \n",
       "4                    0.0              0.0                0.0       0.0   \n",
       "...                  ...              ...                ...       ...   \n",
       "91708                1.0              0.0                0.0       0.0   \n",
       "91709                0.0              0.0                0.0       0.0   \n",
       "91710                1.0              0.0                0.0       0.0   \n",
       "91711                0.0              0.0                0.0       0.0   \n",
       "91712                0.0              0.0                0.0       0.0   \n",
       "\n",
       "       lymphoma  solid_tumor_with_metastasis  \n",
       "0           0.0                          0.0  \n",
       "1           0.0                          0.0  \n",
       "2           0.0                          0.0  \n",
       "3           0.0                          0.0  \n",
       "4           0.0                          0.0  \n",
       "...         ...                          ...  \n",
       "91708       0.0                          1.0  \n",
       "91709       0.0                          0.0  \n",
       "91710       0.0                          0.0  \n",
       "91711       0.0                          0.0  \n",
       "91712       0.0                          0.0  \n",
       "\n",
       "[91713 rows x 82 columns]"
      ]
     },
     "execution_count": 108,
     "metadata": {},
     "output_type": "execute_result"
    }
   ],
   "source": [
    "corr_dataset"
   ]
  },
  {
   "cell_type": "markdown",
   "id": "4e704d67",
   "metadata": {},
   "source": [
    "# Model"
   ]
  },
  {
   "cell_type": "code",
   "execution_count": 161,
   "id": "944105b4",
   "metadata": {},
   "outputs": [],
   "source": [
    "from sklearn.linear_model import LogisticRegression\n",
    "from collections import Counter"
   ]
  },
  {
   "cell_type": "code",
   "execution_count": null,
   "id": "dab21296",
   "metadata": {},
   "outputs": [],
   "source": [
    "Y = corr_dataset[\"hospital_death\"]\n",
    "corr_dataset.drop(['hospital_death'],axis=1,inplace=True)\n",
    "print(corr_dataset.shape)\n",
    "X= corr_dataset"
   ]
  },
  {
   "cell_type": "code",
   "execution_count": 163,
   "id": "d115a127",
   "metadata": {},
   "outputs": [],
   "source": [
    "from sklearn.preprocessing import StandardScaler\n",
    "sc=StandardScaler()\n",
    "X=sc.fit_transform(X)"
   ]
  },
  {
   "cell_type": "code",
   "execution_count": 164,
   "id": "03190bba",
   "metadata": {},
   "outputs": [],
   "source": [
    "from sklearn.feature_extraction.text import CountVectorizer\n",
    "from sklearn.model_selection import train_test_split\n",
    "np.random.seed(0)\n",
    "X_train, X_test, y_train, y_test = train_test_split(X, Y, test_size=0.2, random_state=0)"
   ]
  },
  {
   "cell_type": "markdown",
   "id": "1a0b9eb5",
   "metadata": {},
   "source": [
    "# Logistic Regression"
   ]
  },
  {
   "cell_type": "code",
   "execution_count": 165,
   "id": "7bc9adc1",
   "metadata": {},
   "outputs": [],
   "source": [
    "from sklearn.linear_model import LogisticRegression\n",
    "from sklearn.metrics import accuracy_score\n",
    "Lr=LogisticRegression(max_iter=10000)\n",
    "Lr.fit(X_train,y_train)\n",
    "y_pred=Lr.predict(X_test)"
   ]
  },
  {
   "cell_type": "code",
   "execution_count": 166,
   "id": "fe50f3cc",
   "metadata": {},
   "outputs": [
    {
     "name": "stdout",
     "output_type": "stream",
     "text": [
      "              precision    recall  f1-score   support\n",
      "\n",
      "           0       0.93      0.99      0.96     16672\n",
      "           1       0.67      0.25      0.37      1671\n",
      "\n",
      "    accuracy                           0.92     18343\n",
      "   macro avg       0.80      0.62      0.66     18343\n",
      "weighted avg       0.91      0.92      0.90     18343\n",
      "\n",
      "ROC AUC Score is:  0.8710424872299393\n"
     ]
    }
   ],
   "source": [
    "from sklearn.metrics import precision_score, recall_score, f1_score, accuracy_score, classification_report, roc_auc_score\n",
    "#print(accuracy_score(y_test,y_pred))\n",
    "#print(recall_score(y_test,y_pred))\n",
    "#print(precision_score(y_test,y_pred))\n",
    "#print(f1_score(y_test,y_pred))\n",
    "print(classification_report(y_test, y_pred))\n",
    "print('ROC AUC Score is: ',roc_auc_score(y_test, Lr.predict_proba(X_test)[:, 1]))"
   ]
  },
  {
   "cell_type": "markdown",
   "id": "bc95232d",
   "metadata": {},
   "source": [
    "# Near Miss\n"
   ]
  },
  {
   "cell_type": "code",
   "execution_count": 122,
   "id": "61a4b017",
   "metadata": {},
   "outputs": [],
   "source": [
    "import imblearn\n",
    "from imblearn.under_sampling import NearMiss\n",
    "\n",
    "nm = NearMiss()\n",
    "\n",
    "x_nm, y_nm = nm.fit_resample(X, Y)\n"
   ]
  },
  {
   "cell_type": "code",
   "execution_count": 123,
   "id": "2272333c",
   "metadata": {},
   "outputs": [
    {
     "name": "stdout",
     "output_type": "stream",
     "text": [
      "Original dataset shape: Counter({0: 83798, 1: 7915})\n",
      "Resample dataset shape: Counter({0: 7915, 1: 7915})\n"
     ]
    }
   ],
   "source": [
    "\n",
    "print('Original dataset shape:', Counter(Y))\n",
    "print('Resample dataset shape:', Counter(y_nm))"
   ]
  },
  {
   "cell_type": "code",
   "execution_count": 124,
   "id": "7881811d",
   "metadata": {},
   "outputs": [],
   "source": [
    "from sklearn.feature_extraction.text import CountVectorizer\n",
    "from sklearn.model_selection import train_test_split\n",
    "np.random.seed(0)\n",
    "X_train, X_test, y_train, y_test = train_test_split(x_nm, y_nm, test_size=0.2, random_state=0)"
   ]
  },
  {
   "cell_type": "code",
   "execution_count": 125,
   "id": "123b47fd",
   "metadata": {},
   "outputs": [],
   "source": [
    "Lr=LogisticRegression()\n",
    "Lr.fit(X_train,y_train)\n",
    "y_pred=Lr.predict(X_test)"
   ]
  },
  {
   "cell_type": "code",
   "execution_count": 126,
   "id": "3f6a2de5",
   "metadata": {},
   "outputs": [
    {
     "name": "stdout",
     "output_type": "stream",
     "text": [
      "Classification Report after applying \"Near Miss\" algorithm\n",
      "               precision    recall  f1-score   support\n",
      "\n",
      "           0       0.91      0.95      0.93      1568\n",
      "           1       0.95      0.90      0.93      1598\n",
      "\n",
      "    accuracy                           0.93      3166\n",
      "   macro avg       0.93      0.93      0.93      3166\n",
      "weighted avg       0.93      0.93      0.93      3166\n",
      "\n",
      "ROC AUC Score is:  0.9749735000383134\n"
     ]
    }
   ],
   "source": [
    "from sklearn.metrics import precision_score, recall_score, f1_score, accuracy_score, classification_report\n",
    "#print(accuracy_score(y_test,y_pred))\n",
    "#print(recall_score(y_test,y_pred))\n",
    "#print(precision_score(y_test,y_pred))\n",
    "#print(f1_score(y_test,y_pred))\n",
    "print('Classification Report after applying \"Near Miss\" algorithm\\n',classification_report(y_test, y_pred))\n",
    "print('ROC AUC Score is: ',roc_auc_score(y_test, Lr.predict_proba(X_test)[:, 1]))"
   ]
  },
  {
   "cell_type": "code",
   "execution_count": 127,
   "id": "90617beb",
   "metadata": {},
   "outputs": [
    {
     "name": "stdout",
     "output_type": "stream",
     "text": [
      "0.9770082550258954\n",
      "0.9749735000383134\n"
     ]
    }
   ],
   "source": [
    "from sklearn.metrics import roc_auc_score\n",
    "print(roc_auc_score(y_train, Lr.predict_proba(X_train)[:, 1]))\n",
    "print(roc_auc_score(y_test, Lr.predict_proba(X_test)[:, 1]))"
   ]
  },
  {
   "cell_type": "markdown",
   "id": "820ac4e4",
   "metadata": {},
   "source": [
    "# SMOTE"
   ]
  },
  {
   "cell_type": "code",
   "execution_count": 167,
   "id": "b2629bfd",
   "metadata": {},
   "outputs": [],
   "source": [
    "from imblearn.over_sampling import SMOTE\n",
    "\n",
    "smote = SMOTE()\n",
    "\n",
    "# fit predictor and target variable\n",
    "x_smote, y_smote = smote.fit_resample(X, Y)\n"
   ]
  },
  {
   "cell_type": "code",
   "execution_count": 168,
   "id": "0a02e2e5",
   "metadata": {},
   "outputs": [
    {
     "name": "stdout",
     "output_type": "stream",
     "text": [
      "Original dataset shape Counter({0: 83798, 1: 7915})\n",
      "Resample dataset shape Counter({0: 83798, 1: 83798})\n"
     ]
    }
   ],
   "source": [
    "print('Original dataset shape', Counter(Y))\n",
    "print('Resample dataset shape', Counter(y_smote))"
   ]
  },
  {
   "cell_type": "code",
   "execution_count": 169,
   "id": "bcb7afaf",
   "metadata": {},
   "outputs": [],
   "source": [
    "from sklearn.feature_extraction.text import CountVectorizer\n",
    "from sklearn.model_selection import train_test_split\n",
    "np.random.seed(0)\n",
    "X_train, X_test, y_train, y_test = train_test_split(x_smote, y_smote, test_size=0.2, random_state=0)"
   ]
  },
  {
   "cell_type": "code",
   "execution_count": 170,
   "id": "d80a8cda",
   "metadata": {},
   "outputs": [],
   "source": [
    "Lr=LogisticRegression()\n",
    "Lr.fit(X_train,y_train)\n",
    "y_pred=Lr.predict(X_test)"
   ]
  },
  {
   "cell_type": "code",
   "execution_count": 171,
   "id": "aaea31e2",
   "metadata": {
    "scrolled": true
   },
   "outputs": [
    {
     "name": "stdout",
     "output_type": "stream",
     "text": [
      "Classification Report after applying \"SMOTE\" algorithm\n",
      "               precision    recall  f1-score   support\n",
      "\n",
      "           0       0.78      0.80      0.79     16634\n",
      "           1       0.80      0.78      0.79     16886\n",
      "\n",
      "    accuracy                           0.79     33520\n",
      "   macro avg       0.79      0.79      0.79     33520\n",
      "weighted avg       0.79      0.79      0.79     33520\n",
      "\n",
      "ROC AUC Score is:  0.8724997928309497\n"
     ]
    }
   ],
   "source": [
    "from sklearn.metrics import precision_score, recall_score, f1_score, accuracy_score, classification_report\n",
    "#print(accuracy_score(y_test,y_pred))\n",
    "#print(recall_score(y_test,y_pred))\n",
    "#print(precision_score(y_test,y_pred))\n",
    "#print(f1_score(y_test,y_pred))\n",
    "print('Classification Report after applying \"SMOTE\" algorithm\\n',classification_report(y_test, y_pred))\n",
    "print('ROC AUC Score is: ',roc_auc_score(y_test, Lr.predict_proba(X_test)[:, 1]))"
   ]
  },
  {
   "cell_type": "code",
   "execution_count": 133,
   "id": "1b5c922b",
   "metadata": {},
   "outputs": [
    {
     "name": "stdout",
     "output_type": "stream",
     "text": [
      "0.8724035305747531\n",
      "0.8724997928309497\n"
     ]
    }
   ],
   "source": [
    "from sklearn.metrics import roc_auc_score\n",
    "print(roc_auc_score(y_train, Lr.predict_proba(X_train)[:, 1]))\n",
    "print(roc_auc_score(y_test, Lr.predict_proba(X_test)[:, 1]))"
   ]
  },
  {
   "cell_type": "markdown",
   "id": "40a517a6",
   "metadata": {},
   "source": [
    "# Decision Tree"
   ]
  },
  {
   "cell_type": "code",
   "execution_count": 134,
   "id": "712a0982",
   "metadata": {},
   "outputs": [],
   "source": [
    "from sklearn.feature_extraction.text import CountVectorizer\n",
    "from sklearn.model_selection import train_test_split\n",
    "np.random.seed(0)\n",
    "X_train, X_test, y_train, y_test = train_test_split(X, Y, test_size=0.2, random_state=0)"
   ]
  },
  {
   "cell_type": "code",
   "execution_count": 135,
   "id": "f44db540",
   "metadata": {},
   "outputs": [],
   "source": [
    "from sklearn import tree\n",
    "dt = tree.DecisionTreeClassifier()\n",
    "dt = dt.fit(X_train, y_train)\n",
    "y_pred=dt.predict(X_test)"
   ]
  },
  {
   "cell_type": "code",
   "execution_count": 136,
   "id": "61d6197e",
   "metadata": {},
   "outputs": [
    {
     "name": "stdout",
     "output_type": "stream",
     "text": [
      "              precision    recall  f1-score   support\n",
      "\n",
      "           0       0.94      0.93      0.93     16672\n",
      "           1       0.34      0.36      0.35      1671\n",
      "\n",
      "    accuracy                           0.88     18343\n",
      "   macro avg       0.64      0.64      0.64     18343\n",
      "weighted avg       0.88      0.88      0.88     18343\n",
      "\n",
      "ROC AUC Score is:  0.6446850472839715\n"
     ]
    }
   ],
   "source": [
    "from sklearn.metrics import precision_score, recall_score, f1_score, accuracy_score, classification_report\n",
    "#print(accuracy_score(y_test,y_pred))\n",
    "#print(recall_score(y_test,y_pred))\n",
    "#print(precision_score(y_test,y_pred))\n",
    "#print(f1_score(y_test,y_pred))\n",
    "print(classification_report(y_test, y_pred))\n",
    "print('ROC AUC Score is: ',roc_auc_score(y_test, dt.predict_proba(X_test)[:, 1]))"
   ]
  },
  {
   "cell_type": "markdown",
   "id": "6c7e977f",
   "metadata": {},
   "source": [
    "# Near Miss"
   ]
  },
  {
   "cell_type": "code",
   "execution_count": 138,
   "id": "1e9993da",
   "metadata": {},
   "outputs": [],
   "source": [
    "import imblearn\n",
    "from imblearn.under_sampling import NearMiss\n",
    "\n",
    "nm = NearMiss()\n",
    "\n",
    "x_nm, y_nm = nm.fit_resample(X, Y)\n"
   ]
  },
  {
   "cell_type": "code",
   "execution_count": 139,
   "id": "2a791f5d",
   "metadata": {},
   "outputs": [
    {
     "name": "stdout",
     "output_type": "stream",
     "text": [
      "Original dataset shape: Counter({0: 83798, 1: 7915})\n",
      "Resample dataset shape: Counter({0: 7915, 1: 7915})\n"
     ]
    }
   ],
   "source": [
    "\n",
    "print('Original dataset shape:', Counter(Y))\n",
    "print('Resample dataset shape:', Counter(y_nm))"
   ]
  },
  {
   "cell_type": "code",
   "execution_count": 143,
   "id": "9137ae54",
   "metadata": {},
   "outputs": [],
   "source": [
    "from sklearn.feature_extraction.text import CountVectorizer\n",
    "from sklearn.model_selection import train_test_split\n",
    "np.random.seed(0)\n",
    "X_train, X_test, y_train, y_test = train_test_split(x_nm, y_nm, test_size=0.2, random_state=0)"
   ]
  },
  {
   "cell_type": "code",
   "execution_count": 144,
   "id": "a33ffb13",
   "metadata": {},
   "outputs": [],
   "source": [
    "from sklearn import tree\n",
    "dt = tree.DecisionTreeClassifier()\n",
    "dt = dt.fit(X_train, y_train)\n",
    "y_pred=dt.predict(X_test)"
   ]
  },
  {
   "cell_type": "code",
   "execution_count": 145,
   "id": "e1fb080d",
   "metadata": {},
   "outputs": [
    {
     "name": "stdout",
     "output_type": "stream",
     "text": [
      "Classification Report after applying \"Near Miss\" algorithm\n",
      "               precision    recall  f1-score   support\n",
      "\n",
      "           0       0.88      0.88      0.88      1568\n",
      "           1       0.89      0.88      0.88      1598\n",
      "\n",
      "    accuracy                           0.88      3166\n",
      "   macro avg       0.88      0.88      0.88      3166\n",
      "weighted avg       0.88      0.88      0.88      3166\n",
      "\n",
      "ROC AUC Score is:  0.8809505185052745\n"
     ]
    }
   ],
   "source": [
    "from sklearn.metrics import precision_score, recall_score, f1_score, accuracy_score, classification_report\n",
    "#print(accuracy_score(y_test,y_pred))\n",
    "#print(recall_score(y_test,y_pred))\n",
    "#print(precision_score(y_test,y_pred))\n",
    "#print(f1_score(y_test,y_pred))\n",
    "print('Classification Report after applying \"Near Miss\" algorithm\\n',classification_report(y_test, y_pred))\n",
    "print('ROC AUC Score is: ',roc_auc_score(y_test, dt.predict_proba(X_test)[:, 1]))"
   ]
  },
  {
   "cell_type": "markdown",
   "id": "88b4ca70",
   "metadata": {},
   "source": [
    "# SMOTE"
   ]
  },
  {
   "cell_type": "code",
   "execution_count": 146,
   "id": "6abee002",
   "metadata": {},
   "outputs": [],
   "source": [
    "from imblearn.over_sampling import SMOTE\n",
    "\n",
    "smote = SMOTE()\n",
    "\n",
    "# fit predictor and target variable\n",
    "x_smote, y_smote = smote.fit_resample(X, Y)\n"
   ]
  },
  {
   "cell_type": "code",
   "execution_count": 147,
   "id": "92d87c0f",
   "metadata": {},
   "outputs": [
    {
     "name": "stdout",
     "output_type": "stream",
     "text": [
      "Original dataset shape Counter({0: 83798, 1: 7915})\n",
      "Resample dataset shape Counter({0: 83798, 1: 83798})\n"
     ]
    }
   ],
   "source": [
    "print('Original dataset shape', Counter(Y))\n",
    "print('Resample dataset shape', Counter(y_smote))"
   ]
  },
  {
   "cell_type": "code",
   "execution_count": 148,
   "id": "eacaafe7",
   "metadata": {},
   "outputs": [],
   "source": [
    "from sklearn.feature_extraction.text import CountVectorizer\n",
    "from sklearn.model_selection import train_test_split\n",
    "np.random.seed(0)\n",
    "X_train, X_test, y_train, y_test = train_test_split(x_smote, y_smote, test_size=0.2, random_state=0)"
   ]
  },
  {
   "cell_type": "code",
   "execution_count": 149,
   "id": "479bce9f",
   "metadata": {},
   "outputs": [],
   "source": [
    "from sklearn import tree\n",
    "dt = tree.DecisionTreeClassifier()\n",
    "dt = dt.fit(X_train, y_train)\n",
    "y_pred=dt.predict(X_test)"
   ]
  },
  {
   "cell_type": "code",
   "execution_count": 150,
   "id": "f94703e8",
   "metadata": {},
   "outputs": [
    {
     "name": "stdout",
     "output_type": "stream",
     "text": [
      "Classification Report after applying \"SMOTE\" algorithm\n",
      "               precision    recall  f1-score   support\n",
      "\n",
      "           0       0.93      0.91      0.92     16634\n",
      "           1       0.91      0.93      0.92     16886\n",
      "\n",
      "    accuracy                           0.92     33520\n",
      "   macro avg       0.92      0.92      0.92     33520\n",
      "weighted avg       0.92      0.92      0.92     33520\n",
      "\n",
      "ROC AUC Score is:  0.9187439585780953\n"
     ]
    }
   ],
   "source": [
    "from sklearn.metrics import precision_score, recall_score, f1_score, accuracy_score, classification_report\n",
    "#print(accuracy_score(y_test,y_pred))\n",
    "#print(recall_score(y_test,y_pred))\n",
    "#print(precision_score(y_test,y_pred))\n",
    "#print(f1_score(y_test,y_pred))\n",
    "print('Classification Report after applying \"SMOTE\" algorithm\\n',classification_report(y_test, y_pred))\n",
    "print('ROC AUC Score is: ',roc_auc_score(y_test, dt.predict_proba(X_test)[:, 1]))"
   ]
  },
  {
   "cell_type": "markdown",
   "id": "2be1742a",
   "metadata": {},
   "source": [
    "# Selecting Top 25 Features"
   ]
  },
  {
   "cell_type": "code",
   "execution_count": 78,
   "id": "ed6cd8ff",
   "metadata": {},
   "outputs": [],
   "source": [
    "from sklearn.feature_selection import RFE"
   ]
  },
  {
   "cell_type": "code",
   "execution_count": 79,
   "id": "c19e8fa0",
   "metadata": {},
   "outputs": [],
   "source": [
    "dt = tree.DecisionTreeClassifier()\n",
    "rfe = RFE(estimator=dt, n_features_to_select=25, step=1)\n",
    "rfe.fit(X, Y)\n",
    "ranking = rfe.ranking_"
   ]
  },
  {
   "cell_type": "code",
   "execution_count": 80,
   "id": "e8c37633",
   "metadata": {},
   "outputs": [
    {
     "data": {
      "text/plain": [
       "array([ 1,  1,  5,  1,  1, 31,  7,  2,  1, 38, 34, 43,  1,  1,  1,  8, 17,\n",
       "       32, 22,  1,  1,  4,  1, 18,  9, 11,  3, 35,  1,  1,  1,  1,  1, 23,\n",
       "       30, 21, 16, 10, 25, 15, 28, 29, 26,  1, 12, 13, 20,  1, 24,  1,  6,\n",
       "       27,  1, 14,  1,  1, 19,  1,  1,  1, 40, 36, 52, 37, 33, 51, 39, 53,\n",
       "       54, 49, 46, 41, 45, 57, 55, 47, 48, 44, 56, 50, 42])"
      ]
     },
     "execution_count": 80,
     "metadata": {},
     "output_type": "execute_result"
    }
   ],
   "source": [
    "ranking"
   ]
  },
  {
   "cell_type": "code",
   "execution_count": 81,
   "id": "7b7077bd",
   "metadata": {},
   "outputs": [],
   "source": [
    "red_dataset = corr_dataset\n",
    "i=0\n",
    "\n",
    "for column in corr_dataset:\n",
    "    if(ranking[i]!=1):\n",
    "        red_dataset=red_dataset.drop([column],axis=1)\n",
    "    i=i+1\n",
    "        \n",
    "    "
   ]
  },
  {
   "cell_type": "code",
   "execution_count": 82,
   "id": "f118f872",
   "metadata": {},
   "outputs": [
    {
     "data": {
      "text/html": [
       "<div>\n",
       "<style scoped>\n",
       "    .dataframe tbody tr th:only-of-type {\n",
       "        vertical-align: middle;\n",
       "    }\n",
       "\n",
       "    .dataframe tbody tr th {\n",
       "        vertical-align: top;\n",
       "    }\n",
       "\n",
       "    .dataframe thead th {\n",
       "        text-align: right;\n",
       "    }\n",
       "</style>\n",
       "<table border=\"1\" class=\"dataframe\">\n",
       "  <thead>\n",
       "    <tr style=\"text-align: right;\">\n",
       "      <th></th>\n",
       "      <th>age</th>\n",
       "      <th>bmi</th>\n",
       "      <th>pre_icu_los_days</th>\n",
       "      <th>weight</th>\n",
       "      <th>creatinine_apache</th>\n",
       "      <th>glucose_apache</th>\n",
       "      <th>heart_rate_apache</th>\n",
       "      <th>hematocrit_apache</th>\n",
       "      <th>d1_diasbp_max</th>\n",
       "      <th>d1_diasbp_min</th>\n",
       "      <th>...</th>\n",
       "      <th>d1_temp_min</th>\n",
       "      <th>h1_sysbp_max</th>\n",
       "      <th>d1_glucose_min</th>\n",
       "      <th>d1_hco3_min</th>\n",
       "      <th>d1_platelets_max</th>\n",
       "      <th>d1_potassium_min</th>\n",
       "      <th>d1_sodium_max</th>\n",
       "      <th>d1_wbc_max</th>\n",
       "      <th>apache_4a_hospital_death_prob</th>\n",
       "      <th>apache_4a_icu_death_prob</th>\n",
       "    </tr>\n",
       "  </thead>\n",
       "  <tbody>\n",
       "    <tr>\n",
       "      <th>0</th>\n",
       "      <td>68.0</td>\n",
       "      <td>22.730000</td>\n",
       "      <td>0.541667</td>\n",
       "      <td>73.90</td>\n",
       "      <td>2.51</td>\n",
       "      <td>168.00</td>\n",
       "      <td>118.0</td>\n",
       "      <td>27.40</td>\n",
       "      <td>68.0</td>\n",
       "      <td>37.0</td>\n",
       "      <td>...</td>\n",
       "      <td>37.2</td>\n",
       "      <td>131.0</td>\n",
       "      <td>109.0</td>\n",
       "      <td>15.00</td>\n",
       "      <td>233.00</td>\n",
       "      <td>3.40</td>\n",
       "      <td>136.00</td>\n",
       "      <td>14.10</td>\n",
       "      <td>0.10</td>\n",
       "      <td>0.05</td>\n",
       "    </tr>\n",
       "    <tr>\n",
       "      <th>1</th>\n",
       "      <td>77.0</td>\n",
       "      <td>27.420000</td>\n",
       "      <td>0.927778</td>\n",
       "      <td>70.20</td>\n",
       "      <td>0.56</td>\n",
       "      <td>145.00</td>\n",
       "      <td>120.0</td>\n",
       "      <td>36.90</td>\n",
       "      <td>95.0</td>\n",
       "      <td>31.0</td>\n",
       "      <td>...</td>\n",
       "      <td>35.1</td>\n",
       "      <td>95.0</td>\n",
       "      <td>128.0</td>\n",
       "      <td>26.00</td>\n",
       "      <td>557.00</td>\n",
       "      <td>3.80</td>\n",
       "      <td>145.00</td>\n",
       "      <td>23.30</td>\n",
       "      <td>0.47</td>\n",
       "      <td>0.29</td>\n",
       "    </tr>\n",
       "    <tr>\n",
       "      <th>2</th>\n",
       "      <td>25.0</td>\n",
       "      <td>31.950000</td>\n",
       "      <td>0.000694</td>\n",
       "      <td>95.30</td>\n",
       "      <td>1.48</td>\n",
       "      <td>160.33</td>\n",
       "      <td>102.0</td>\n",
       "      <td>32.99</td>\n",
       "      <td>88.0</td>\n",
       "      <td>48.0</td>\n",
       "      <td>...</td>\n",
       "      <td>36.7</td>\n",
       "      <td>148.0</td>\n",
       "      <td>114.0</td>\n",
       "      <td>23.17</td>\n",
       "      <td>207.11</td>\n",
       "      <td>3.93</td>\n",
       "      <td>139.12</td>\n",
       "      <td>12.48</td>\n",
       "      <td>0.00</td>\n",
       "      <td>0.00</td>\n",
       "    </tr>\n",
       "    <tr>\n",
       "      <th>3</th>\n",
       "      <td>81.0</td>\n",
       "      <td>22.640000</td>\n",
       "      <td>0.000694</td>\n",
       "      <td>61.70</td>\n",
       "      <td>1.48</td>\n",
       "      <td>185.00</td>\n",
       "      <td>114.0</td>\n",
       "      <td>25.90</td>\n",
       "      <td>48.0</td>\n",
       "      <td>42.0</td>\n",
       "      <td>...</td>\n",
       "      <td>34.8</td>\n",
       "      <td>136.0</td>\n",
       "      <td>88.0</td>\n",
       "      <td>23.17</td>\n",
       "      <td>198.00</td>\n",
       "      <td>3.50</td>\n",
       "      <td>139.12</td>\n",
       "      <td>9.00</td>\n",
       "      <td>0.04</td>\n",
       "      <td>0.03</td>\n",
       "    </tr>\n",
       "    <tr>\n",
       "      <th>4</th>\n",
       "      <td>19.0</td>\n",
       "      <td>29.190000</td>\n",
       "      <td>0.073611</td>\n",
       "      <td>84.03</td>\n",
       "      <td>1.48</td>\n",
       "      <td>160.33</td>\n",
       "      <td>60.0</td>\n",
       "      <td>32.99</td>\n",
       "      <td>99.0</td>\n",
       "      <td>57.0</td>\n",
       "      <td>...</td>\n",
       "      <td>36.7</td>\n",
       "      <td>130.0</td>\n",
       "      <td>114.0</td>\n",
       "      <td>23.17</td>\n",
       "      <td>207.11</td>\n",
       "      <td>3.93</td>\n",
       "      <td>139.12</td>\n",
       "      <td>12.48</td>\n",
       "      <td>0.09</td>\n",
       "      <td>0.04</td>\n",
       "    </tr>\n",
       "    <tr>\n",
       "      <th>...</th>\n",
       "      <td>...</td>\n",
       "      <td>...</td>\n",
       "      <td>...</td>\n",
       "      <td>...</td>\n",
       "      <td>...</td>\n",
       "      <td>...</td>\n",
       "      <td>...</td>\n",
       "      <td>...</td>\n",
       "      <td>...</td>\n",
       "      <td>...</td>\n",
       "      <td>...</td>\n",
       "      <td>...</td>\n",
       "      <td>...</td>\n",
       "      <td>...</td>\n",
       "      <td>...</td>\n",
       "      <td>...</td>\n",
       "      <td>...</td>\n",
       "      <td>...</td>\n",
       "      <td>...</td>\n",
       "      <td>...</td>\n",
       "      <td>...</td>\n",
       "    </tr>\n",
       "    <tr>\n",
       "      <th>91708</th>\n",
       "      <td>75.0</td>\n",
       "      <td>23.060250</td>\n",
       "      <td>0.298611</td>\n",
       "      <td>72.90</td>\n",
       "      <td>1.48</td>\n",
       "      <td>381.00</td>\n",
       "      <td>115.0</td>\n",
       "      <td>32.99</td>\n",
       "      <td>104.0</td>\n",
       "      <td>44.0</td>\n",
       "      <td>...</td>\n",
       "      <td>36.6</td>\n",
       "      <td>94.0</td>\n",
       "      <td>187.0</td>\n",
       "      <td>28.00</td>\n",
       "      <td>92.00</td>\n",
       "      <td>4.20</td>\n",
       "      <td>140.00</td>\n",
       "      <td>5.68</td>\n",
       "      <td>0.12</td>\n",
       "      <td>0.05</td>\n",
       "    </tr>\n",
       "    <tr>\n",
       "      <th>91709</th>\n",
       "      <td>56.0</td>\n",
       "      <td>47.179671</td>\n",
       "      <td>0.120139</td>\n",
       "      <td>158.00</td>\n",
       "      <td>2.30</td>\n",
       "      <td>177.00</td>\n",
       "      <td>100.0</td>\n",
       "      <td>33.00</td>\n",
       "      <td>73.0</td>\n",
       "      <td>40.0</td>\n",
       "      <td>...</td>\n",
       "      <td>36.1</td>\n",
       "      <td>127.0</td>\n",
       "      <td>177.0</td>\n",
       "      <td>30.00</td>\n",
       "      <td>133.00</td>\n",
       "      <td>3.80</td>\n",
       "      <td>136.00</td>\n",
       "      <td>4.22</td>\n",
       "      <td>0.03</td>\n",
       "      <td>0.02</td>\n",
       "    </tr>\n",
       "    <tr>\n",
       "      <th>91710</th>\n",
       "      <td>48.0</td>\n",
       "      <td>27.236914</td>\n",
       "      <td>0.046528</td>\n",
       "      <td>78.90</td>\n",
       "      <td>2.30</td>\n",
       "      <td>538.00</td>\n",
       "      <td>158.0</td>\n",
       "      <td>36.00</td>\n",
       "      <td>77.0</td>\n",
       "      <td>49.0</td>\n",
       "      <td>...</td>\n",
       "      <td>35.8</td>\n",
       "      <td>133.0</td>\n",
       "      <td>86.0</td>\n",
       "      <td>7.00</td>\n",
       "      <td>227.00</td>\n",
       "      <td>3.20</td>\n",
       "      <td>139.00</td>\n",
       "      <td>17.55</td>\n",
       "      <td>0.05</td>\n",
       "      <td>0.02</td>\n",
       "    </tr>\n",
       "    <tr>\n",
       "      <th>91711</th>\n",
       "      <td>62.0</td>\n",
       "      <td>23.297481</td>\n",
       "      <td>0.081944</td>\n",
       "      <td>55.90</td>\n",
       "      <td>1.48</td>\n",
       "      <td>160.33</td>\n",
       "      <td>60.0</td>\n",
       "      <td>32.99</td>\n",
       "      <td>99.0</td>\n",
       "      <td>32.0</td>\n",
       "      <td>...</td>\n",
       "      <td>36.3</td>\n",
       "      <td>133.0</td>\n",
       "      <td>114.0</td>\n",
       "      <td>23.17</td>\n",
       "      <td>207.11</td>\n",
       "      <td>3.93</td>\n",
       "      <td>139.12</td>\n",
       "      <td>12.48</td>\n",
       "      <td>0.07</td>\n",
       "      <td>0.02</td>\n",
       "    </tr>\n",
       "    <tr>\n",
       "      <th>91712</th>\n",
       "      <td>82.0</td>\n",
       "      <td>22.031250</td>\n",
       "      <td>0.018056</td>\n",
       "      <td>56.40</td>\n",
       "      <td>1.50</td>\n",
       "      <td>158.00</td>\n",
       "      <td>101.0</td>\n",
       "      <td>36.00</td>\n",
       "      <td>47.0</td>\n",
       "      <td>32.0</td>\n",
       "      <td>...</td>\n",
       "      <td>36.0</td>\n",
       "      <td>93.0</td>\n",
       "      <td>158.0</td>\n",
       "      <td>22.00</td>\n",
       "      <td>420.00</td>\n",
       "      <td>4.90</td>\n",
       "      <td>132.00</td>\n",
       "      <td>24.40</td>\n",
       "      <td>0.19</td>\n",
       "      <td>0.08</td>\n",
       "    </tr>\n",
       "  </tbody>\n",
       "</table>\n",
       "<p>91713 rows × 25 columns</p>\n",
       "</div>"
      ],
      "text/plain": [
       "        age        bmi  pre_icu_los_days  weight  creatinine_apache  \\\n",
       "0      68.0  22.730000          0.541667   73.90               2.51   \n",
       "1      77.0  27.420000          0.927778   70.20               0.56   \n",
       "2      25.0  31.950000          0.000694   95.30               1.48   \n",
       "3      81.0  22.640000          0.000694   61.70               1.48   \n",
       "4      19.0  29.190000          0.073611   84.03               1.48   \n",
       "...     ...        ...               ...     ...                ...   \n",
       "91708  75.0  23.060250          0.298611   72.90               1.48   \n",
       "91709  56.0  47.179671          0.120139  158.00               2.30   \n",
       "91710  48.0  27.236914          0.046528   78.90               2.30   \n",
       "91711  62.0  23.297481          0.081944   55.90               1.48   \n",
       "91712  82.0  22.031250          0.018056   56.40               1.50   \n",
       "\n",
       "       glucose_apache  heart_rate_apache  hematocrit_apache  d1_diasbp_max  \\\n",
       "0              168.00              118.0              27.40           68.0   \n",
       "1              145.00              120.0              36.90           95.0   \n",
       "2              160.33              102.0              32.99           88.0   \n",
       "3              185.00              114.0              25.90           48.0   \n",
       "4              160.33               60.0              32.99           99.0   \n",
       "...               ...                ...                ...            ...   \n",
       "91708          381.00              115.0              32.99          104.0   \n",
       "91709          177.00              100.0              33.00           73.0   \n",
       "91710          538.00              158.0              36.00           77.0   \n",
       "91711          160.33               60.0              32.99           99.0   \n",
       "91712          158.00              101.0              36.00           47.0   \n",
       "\n",
       "       d1_diasbp_min  ...  d1_temp_min  h1_sysbp_max  d1_glucose_min  \\\n",
       "0               37.0  ...         37.2         131.0           109.0   \n",
       "1               31.0  ...         35.1          95.0           128.0   \n",
       "2               48.0  ...         36.7         148.0           114.0   \n",
       "3               42.0  ...         34.8         136.0            88.0   \n",
       "4               57.0  ...         36.7         130.0           114.0   \n",
       "...              ...  ...          ...           ...             ...   \n",
       "91708           44.0  ...         36.6          94.0           187.0   \n",
       "91709           40.0  ...         36.1         127.0           177.0   \n",
       "91710           49.0  ...         35.8         133.0            86.0   \n",
       "91711           32.0  ...         36.3         133.0           114.0   \n",
       "91712           32.0  ...         36.0          93.0           158.0   \n",
       "\n",
       "       d1_hco3_min  d1_platelets_max  d1_potassium_min  d1_sodium_max  \\\n",
       "0            15.00            233.00              3.40         136.00   \n",
       "1            26.00            557.00              3.80         145.00   \n",
       "2            23.17            207.11              3.93         139.12   \n",
       "3            23.17            198.00              3.50         139.12   \n",
       "4            23.17            207.11              3.93         139.12   \n",
       "...            ...               ...               ...            ...   \n",
       "91708        28.00             92.00              4.20         140.00   \n",
       "91709        30.00            133.00              3.80         136.00   \n",
       "91710         7.00            227.00              3.20         139.00   \n",
       "91711        23.17            207.11              3.93         139.12   \n",
       "91712        22.00            420.00              4.90         132.00   \n",
       "\n",
       "       d1_wbc_max  apache_4a_hospital_death_prob  apache_4a_icu_death_prob  \n",
       "0           14.10                           0.10                      0.05  \n",
       "1           23.30                           0.47                      0.29  \n",
       "2           12.48                           0.00                      0.00  \n",
       "3            9.00                           0.04                      0.03  \n",
       "4           12.48                           0.09                      0.04  \n",
       "...           ...                            ...                       ...  \n",
       "91708        5.68                           0.12                      0.05  \n",
       "91709        4.22                           0.03                      0.02  \n",
       "91710       17.55                           0.05                      0.02  \n",
       "91711       12.48                           0.07                      0.02  \n",
       "91712       24.40                           0.19                      0.08  \n",
       "\n",
       "[91713 rows x 25 columns]"
      ]
     },
     "execution_count": 82,
     "metadata": {},
     "output_type": "execute_result"
    }
   ],
   "source": [
    "red_dataset"
   ]
  },
  {
   "cell_type": "code",
   "execution_count": 175,
   "id": "ce9ba8c5",
   "metadata": {},
   "outputs": [],
   "source": [
    "X= red_dataset"
   ]
  },
  {
   "cell_type": "code",
   "execution_count": 176,
   "id": "2ccaf547",
   "metadata": {},
   "outputs": [],
   "source": [
    "from sklearn.feature_extraction.text import CountVectorizer\n",
    "from sklearn.model_selection import train_test_split\n",
    "np.random.seed(0)\n",
    "X_train, X_test, y_train, y_test = train_test_split(X, Y, test_size=0.2, random_state=0)"
   ]
  },
  {
   "cell_type": "code",
   "execution_count": 178,
   "id": "e97d7433",
   "metadata": {},
   "outputs": [
    {
     "name": "stdout",
     "output_type": "stream",
     "text": [
      "Original dataset shape: Counter({0: 83798, 1: 7915})\n",
      "Resample dataset shape: Counter({0: 7915, 1: 7915})\n",
      "Classification Report after applying \"Near Miss\" algorithm\n",
      "               precision    recall  f1-score   support\n",
      "\n",
      "           0       0.76      0.85      0.81      1568\n",
      "           1       0.84      0.74      0.79      1598\n",
      "\n",
      "    accuracy                           0.80      3166\n",
      "   macro avg       0.80      0.80      0.80      3166\n",
      "weighted avg       0.80      0.80      0.80      3166\n",
      "\n",
      "ROC AUC Score is:  0.8567369767055758\n"
     ]
    },
    {
     "name": "stderr",
     "output_type": "stream",
     "text": [
      "C:\\Users\\schama2\\Miniconda3\\lib\\site-packages\\sklearn\\linear_model\\_logistic.py:814: ConvergenceWarning: lbfgs failed to converge (status=1):\n",
      "STOP: TOTAL NO. of ITERATIONS REACHED LIMIT.\n",
      "\n",
      "Increase the number of iterations (max_iter) or scale the data as shown in:\n",
      "    https://scikit-learn.org/stable/modules/preprocessing.html\n",
      "Please also refer to the documentation for alternative solver options:\n",
      "    https://scikit-learn.org/stable/modules/linear_model.html#logistic-regression\n",
      "  n_iter_i = _check_optimize_result(\n"
     ]
    }
   ],
   "source": [
    "\n",
    "import imblearn\n",
    "from imblearn.under_sampling import NearMiss\n",
    "\n",
    "nm = NearMiss()\n",
    "\n",
    "x_nm, y_nm = nm.fit_resample(X, Y)\n",
    "\n",
    "import imblearn\n",
    "from imblearn.under_sampling import NearMiss\n",
    "\n",
    "nm = NearMiss()\n",
    "\n",
    "x_nm, y_nm = nm.fit_resample(X, Y)\n",
    "\n",
    "\n",
    "print('Original dataset shape:', Counter(Y))\n",
    "print('Resample dataset shape:', Counter(y_nm))\n",
    "\n",
    "from sklearn.feature_extraction.text import CountVectorizer\n",
    "from sklearn.model_selection import train_test_split\n",
    "np.random.seed(0)\n",
    "X_train, X_test, y_train, y_test = train_test_split(x_nm, y_nm, test_size=0.2, random_state=0)\n",
    "Lr=LogisticRegression()\n",
    "Lr.fit(X_train,y_train)\n",
    "y_pred=Lr.predict(X_test)\n",
    "from sklearn.metrics import precision_score, recall_score, f1_score, accuracy_score, classification_report\n",
    "#print(accuracy_score(y_test,y_pred))\n",
    "#print(recall_score(y_test,y_pred))\n",
    "#print(precision_score(y_test,y_pred))\n",
    "#print(f1_score(y_test,y_pred))\n",
    "print('Classification Report after applying \"Near Miss\" algorithm\\n',classification_report(y_test, y_pred))\n",
    "print('ROC AUC Score is: ',roc_auc_score(y_test, Lr.predict_proba(X_test)[:, 1]))\n"
   ]
  },
  {
   "cell_type": "markdown",
   "id": "a3bc3d28",
   "metadata": {},
   "source": [
    "# Implementing Decision Tree on Subset of Features"
   ]
  },
  {
   "cell_type": "code",
   "execution_count": 85,
   "id": "5cd6cd1c",
   "metadata": {},
   "outputs": [],
   "source": [
    "from sklearn import tree\n",
    "dt = tree.DecisionTreeClassifier()\n",
    "dt = dt.fit(X_train, y_train)\n",
    "y_pred=dt.predict(X_test)"
   ]
  },
  {
   "cell_type": "code",
   "execution_count": 86,
   "id": "7c6a4f4b",
   "metadata": {},
   "outputs": [
    {
     "name": "stdout",
     "output_type": "stream",
     "text": [
      "0.8779916044267568\n",
      "0.3518850987432675\n",
      "0.3373493975903614\n",
      "0.34446397188049205\n",
      "              precision    recall  f1-score   support\n",
      "\n",
      "           0       0.93      0.93      0.93     16672\n",
      "           1       0.34      0.35      0.34      1671\n",
      "\n",
      "    accuracy                           0.88     18343\n",
      "   macro avg       0.64      0.64      0.64     18343\n",
      "weighted avg       0.88      0.88      0.88     18343\n",
      "\n",
      "0.6413036338246088\n"
     ]
    }
   ],
   "source": [
    "from sklearn.metrics import precision_score, recall_score, f1_score, accuracy_score, classification_report\n",
    "print(accuracy_score(y_test,y_pred))\n",
    "print(recall_score(y_test,y_pred))\n",
    "print(precision_score(y_test,y_pred))\n",
    "print(f1_score(y_test,y_pred))\n",
    "print(classification_report(y_test, y_pred))\n",
    "print(roc_auc_score(y_test, dt.predict_proba(X_test)[:, 1]))"
   ]
  },
  {
   "cell_type": "code",
   "execution_count": 179,
   "id": "b0fc4a00",
   "metadata": {},
   "outputs": [],
   "source": [
    "from imblearn.over_sampling import SMOTE\n",
    "\n",
    "smote = SMOTE()\n",
    "\n",
    "# fit predictor and target variable\n",
    "x_smote, y_smote = smote.fit_resample(X, Y)\n"
   ]
  },
  {
   "cell_type": "code",
   "execution_count": 180,
   "id": "7b7b0e21",
   "metadata": {},
   "outputs": [
    {
     "name": "stdout",
     "output_type": "stream",
     "text": [
      "Original dataset shape Counter({0: 83798, 1: 7915})\n",
      "Resample dataset shape Counter({0: 83798, 1: 83798})\n"
     ]
    }
   ],
   "source": [
    "print('Original dataset shape', Counter(Y))\n",
    "print('Resample dataset shape', Counter(y_smote))"
   ]
  },
  {
   "cell_type": "code",
   "execution_count": 181,
   "id": "630d3885",
   "metadata": {},
   "outputs": [],
   "source": [
    "from sklearn.feature_extraction.text import CountVectorizer\n",
    "from sklearn.model_selection import train_test_split\n",
    "np.random.seed(0)\n",
    "X_train, X_test, y_train, y_test = train_test_split(x_smote, y_smote, test_size=0.2, random_state=0)"
   ]
  },
  {
   "cell_type": "code",
   "execution_count": 182,
   "id": "bf8fa757",
   "metadata": {},
   "outputs": [],
   "source": [
    "from sklearn import tree\n",
    "dt = tree.DecisionTreeClassifier()\n",
    "dt = dt.fit(X_train, y_train)\n",
    "y_pred=dt.predict(X_test)"
   ]
  },
  {
   "cell_type": "code",
   "execution_count": 183,
   "id": "a6385f4d",
   "metadata": {},
   "outputs": [
    {
     "name": "stdout",
     "output_type": "stream",
     "text": [
      "0.9247016706443915\n",
      "0.9312448181925855\n",
      "0.9202364232209738\n",
      "0.9257078942720903\n",
      "              precision    recall  f1-score   support\n",
      "\n",
      "           0       0.93      0.92      0.92     16634\n",
      "           1       0.92      0.93      0.93     16886\n",
      "\n",
      "    accuracy                           0.92     33520\n",
      "   macro avg       0.92      0.92      0.92     33520\n",
      "weighted avg       0.92      0.92      0.92     33520\n",
      "\n",
      "0.9246521073047815\n"
     ]
    }
   ],
   "source": [
    "from sklearn.metrics import precision_score, recall_score, f1_score, accuracy_score, classification_report\n",
    "print(accuracy_score(y_test,y_pred))\n",
    "print(recall_score(y_test,y_pred))\n",
    "print(precision_score(y_test,y_pred))\n",
    "print(f1_score(y_test,y_pred))\n",
    "print(classification_report(y_test, y_pred))\n",
    "print(roc_auc_score(y_test, dt.predict_proba(X_test)[:, 1]))"
   ]
  },
  {
   "cell_type": "code",
   "execution_count": 184,
   "id": "229c9a52",
   "metadata": {},
   "outputs": [
    {
     "name": "stderr",
     "output_type": "stream",
     "text": [
      "C:\\Users\\schama2\\Miniconda3\\lib\\site-packages\\xgboost\\sklearn.py:1224: UserWarning: The use of label encoder in XGBClassifier is deprecated and will be removed in a future release. To remove this warning, do the following: 1) Pass option use_label_encoder=False when constructing XGBClassifier object; and 2) Encode your labels (y) as integers starting with 0, i.e. 0, 1, 2, ..., [num_class - 1].\n",
      "  warnings.warn(label_encoder_deprecation_msg, UserWarning)\n"
     ]
    },
    {
     "name": "stdout",
     "output_type": "stream",
     "text": [
      "[20:38:53] WARNING: C:/Users/Administrator/workspace/xgboost-win64_release_1.5.1/src/learner.cc:1115: Starting in XGBoost 1.3.0, the default evaluation metric used with the objective 'binary:logistic' was changed from 'error' to 'logloss'. Explicitly set eval_metric if you'd like to restore the old behavior.\n"
     ]
    }
   ],
   "source": [
    "from xgboost import XGBClassifier\n",
    "model = XGBClassifier()\n",
    "model.fit(X_train,y_train)\n",
    "y_pred=model.predict(X_test)"
   ]
  },
  {
   "cell_type": "code",
   "execution_count": 93,
   "id": "f34f0a24",
   "metadata": {},
   "outputs": [
    {
     "name": "stdout",
     "output_type": "stream",
     "text": [
      "0.9596360381861575\n",
      "0.942022977614592\n",
      "0.9770284380566304\n",
      "0.95920644013628\n",
      "              precision    recall  f1-score   support\n",
      "\n",
      "           0       0.94      0.98      0.96     16634\n",
      "           1       0.98      0.94      0.96     16886\n",
      "\n",
      "    accuracy                           0.96     33520\n",
      "   macro avg       0.96      0.96      0.96     33520\n",
      "weighted avg       0.96      0.96      0.96     33520\n",
      "\n",
      "0.9886978139595868\n"
     ]
    }
   ],
   "source": [
    "from sklearn.metrics import precision_score, recall_score, f1_score, accuracy_score, classification_report\n",
    "print(accuracy_score(y_test,y_pred))\n",
    "print(recall_score(y_test,y_pred))\n",
    "print(precision_score(y_test,y_pred))\n",
    "print(f1_score(y_test,y_pred))\n",
    "print(classification_report(y_test, y_pred))\n",
    "print(roc_auc_score(y_test, model.predict_proba(X_test)[:, 1]))"
   ]
  },
  {
   "cell_type": "markdown",
   "id": "53922b93",
   "metadata": {},
   "source": [
    "# XGBoosting"
   ]
  },
  {
   "cell_type": "code",
   "execution_count": 117,
   "id": "7318aad9",
   "metadata": {},
   "outputs": [
    {
     "name": "stderr",
     "output_type": "stream",
     "text": [
      "C:\\Users\\schama2\\Miniconda3\\lib\\site-packages\\xgboost\\sklearn.py:1224: UserWarning: The use of label encoder in XGBClassifier is deprecated and will be removed in a future release. To remove this warning, do the following: 1) Pass option use_label_encoder=False when constructing XGBClassifier object; and 2) Encode your labels (y) as integers starting with 0, i.e. 0, 1, 2, ..., [num_class - 1].\n",
      "  warnings.warn(label_encoder_deprecation_msg, UserWarning)\n"
     ]
    },
    {
     "name": "stdout",
     "output_type": "stream",
     "text": [
      "[19:06:48] WARNING: C:/Users/Administrator/workspace/xgboost-win64_release_1.5.1/src/learner.cc:1115: Starting in XGBoost 1.3.0, the default evaluation metric used with the objective 'binary:logistic' was changed from 'error' to 'logloss'. Explicitly set eval_metric if you'd like to restore the old behavior.\n",
      "              precision    recall  f1-score   support\n",
      "\n",
      "           0       0.94      0.98      0.96     16672\n",
      "           1       0.67      0.33      0.44      1671\n",
      "\n",
      "    accuracy                           0.92     18343\n",
      "   macro avg       0.80      0.66      0.70     18343\n",
      "weighted avg       0.91      0.92      0.91     18343\n",
      "\n",
      "ROC AUC Score is:  0.8849238620661137\n"
     ]
    }
   ],
   "source": [
    "from xgboost import XGBClassifier\n",
    "model = XGBClassifier()\n",
    "model.fit(X_train,y_train)\n",
    "y_pred=model.predict(X_test)\n",
    "print(classification_report(y_test, y_pred))\n",
    "print('ROC AUC Score is: ',roc_auc_score(y_test, model.predict_proba(X_test)[:, 1]))"
   ]
  },
  {
   "cell_type": "markdown",
   "id": "bdb3d307",
   "metadata": {},
   "source": [
    "# Near Miss"
   ]
  },
  {
   "cell_type": "code",
   "execution_count": 151,
   "id": "f32a0f97",
   "metadata": {},
   "outputs": [],
   "source": [
    "import imblearn\n",
    "from imblearn.under_sampling import NearMiss\n",
    "\n",
    "nm = NearMiss()\n",
    "\n",
    "x_nm, y_nm = nm.fit_resample(X, Y)\n"
   ]
  },
  {
   "cell_type": "code",
   "execution_count": 152,
   "id": "a64cf84b",
   "metadata": {},
   "outputs": [
    {
     "name": "stdout",
     "output_type": "stream",
     "text": [
      "Original dataset shape: Counter({0: 83798, 1: 7915})\n",
      "Resample dataset shape: Counter({0: 7915, 1: 7915})\n"
     ]
    }
   ],
   "source": [
    "\n",
    "print('Original dataset shape:', Counter(Y))\n",
    "print('Resample dataset shape:', Counter(y_nm))"
   ]
  },
  {
   "cell_type": "code",
   "execution_count": 153,
   "id": "e086fb68",
   "metadata": {},
   "outputs": [],
   "source": [
    "from sklearn.feature_extraction.text import CountVectorizer\n",
    "from sklearn.model_selection import train_test_split\n",
    "np.random.seed(0)\n",
    "X_train, X_test, y_train, y_test = train_test_split(x_nm, y_nm, test_size=0.2, random_state=0)"
   ]
  },
  {
   "cell_type": "code",
   "execution_count": 155,
   "id": "9b652d87",
   "metadata": {},
   "outputs": [
    {
     "name": "stderr",
     "output_type": "stream",
     "text": [
      "C:\\Users\\schama2\\Miniconda3\\lib\\site-packages\\xgboost\\sklearn.py:1224: UserWarning: The use of label encoder in XGBClassifier is deprecated and will be removed in a future release. To remove this warning, do the following: 1) Pass option use_label_encoder=False when constructing XGBClassifier object; and 2) Encode your labels (y) as integers starting with 0, i.e. 0, 1, 2, ..., [num_class - 1].\n",
      "  warnings.warn(label_encoder_deprecation_msg, UserWarning)\n"
     ]
    },
    {
     "name": "stdout",
     "output_type": "stream",
     "text": [
      "[19:29:18] WARNING: C:/Users/Administrator/workspace/xgboost-win64_release_1.5.1/src/learner.cc:1115: Starting in XGBoost 1.3.0, the default evaluation metric used with the objective 'binary:logistic' was changed from 'error' to 'logloss'. Explicitly set eval_metric if you'd like to restore the old behavior.\n",
      "Classification report after applying \"Near Miss\" algorithm\n",
      "               precision    recall  f1-score   support\n",
      "\n",
      "           0       0.94      0.96      0.95      1568\n",
      "           1       0.96      0.94      0.95      1598\n",
      "\n",
      "    accuracy                           0.95      3166\n",
      "   macro avg       0.95      0.95      0.95      3166\n",
      "weighted avg       0.95      0.95      0.95      3166\n",
      "\n",
      "ROC AUC Score is:  0.9878630973666063\n"
     ]
    }
   ],
   "source": [
    "from xgboost import XGBClassifier\n",
    "model = XGBClassifier()\n",
    "model.fit(X_train,y_train)\n",
    "y_pred=model.predict(X_test)\n",
    "print('Classification report after applying \"Near Miss\" algorithm\\n', classification_report(y_test, y_pred))\n",
    "print('ROC AUC Score is: ',roc_auc_score(y_test, model.predict_proba(X_test)[:, 1]))"
   ]
  },
  {
   "cell_type": "markdown",
   "id": "52ea7da6",
   "metadata": {},
   "source": [
    "# SMOTE"
   ]
  },
  {
   "cell_type": "code",
   "execution_count": 156,
   "id": "fea31cbf",
   "metadata": {},
   "outputs": [],
   "source": [
    "from imblearn.over_sampling import SMOTE\n",
    "\n",
    "smote = SMOTE()\n",
    "\n",
    "# fit predictor and target variable\n",
    "x_smote, y_smote = smote.fit_resample(X, Y)\n"
   ]
  },
  {
   "cell_type": "code",
   "execution_count": 157,
   "id": "5c11d2f5",
   "metadata": {},
   "outputs": [
    {
     "name": "stdout",
     "output_type": "stream",
     "text": [
      "Original dataset shape Counter({0: 83798, 1: 7915})\n",
      "Resample dataset shape Counter({0: 83798, 1: 83798})\n"
     ]
    }
   ],
   "source": [
    "print('Original dataset shape', Counter(Y))\n",
    "print('Resample dataset shape', Counter(y_smote))"
   ]
  },
  {
   "cell_type": "code",
   "execution_count": 158,
   "id": "c4894bee",
   "metadata": {},
   "outputs": [],
   "source": [
    "from sklearn.feature_extraction.text import CountVectorizer\n",
    "from sklearn.model_selection import train_test_split\n",
    "np.random.seed(0)\n",
    "X_train, X_test, y_train, y_test = train_test_split(x_smote, y_smote, test_size=0.2, random_state=0)"
   ]
  },
  {
   "cell_type": "code",
   "execution_count": 159,
   "id": "cecae7c9",
   "metadata": {},
   "outputs": [
    {
     "name": "stderr",
     "output_type": "stream",
     "text": [
      "C:\\Users\\schama2\\Miniconda3\\lib\\site-packages\\xgboost\\sklearn.py:1224: UserWarning: The use of label encoder in XGBClassifier is deprecated and will be removed in a future release. To remove this warning, do the following: 1) Pass option use_label_encoder=False when constructing XGBClassifier object; and 2) Encode your labels (y) as integers starting with 0, i.e. 0, 1, 2, ..., [num_class - 1].\n",
      "  warnings.warn(label_encoder_deprecation_msg, UserWarning)\n"
     ]
    },
    {
     "name": "stdout",
     "output_type": "stream",
     "text": [
      "[19:31:18] WARNING: C:/Users/Administrator/workspace/xgboost-win64_release_1.5.1/src/learner.cc:1115: Starting in XGBoost 1.3.0, the default evaluation metric used with the objective 'binary:logistic' was changed from 'error' to 'logloss'. Explicitly set eval_metric if you'd like to restore the old behavior.\n",
      "Classification report after applying \"SMOTE\" algorithm\n",
      "               precision    recall  f1-score   support\n",
      "\n",
      "           0       0.94      0.98      0.96     16634\n",
      "           1       0.98      0.94      0.96     16886\n",
      "\n",
      "    accuracy                           0.96     33520\n",
      "   macro avg       0.96      0.96      0.96     33520\n",
      "weighted avg       0.96      0.96      0.96     33520\n",
      "\n",
      "ROC AUC Score is:  0.9903962975533432\n"
     ]
    }
   ],
   "source": [
    "from xgboost import XGBClassifier\n",
    "model = XGBClassifier()\n",
    "model.fit(X_train,y_train)\n",
    "y_pred=model.predict(X_test)\n",
    "print('Classification report after applying \"SMOTE\" algorithm\\n', classification_report(y_test, y_pred))\n",
    "print('ROC AUC Score is: ',roc_auc_score(y_test, model.predict_proba(X_test)[:, 1]))"
   ]
  },
  {
   "cell_type": "code",
   "execution_count": 186,
   "id": "dee383f2",
   "metadata": {},
   "outputs": [
    {
     "data": {
      "text/plain": [
       "Index(['age', 'bmi', 'pre_icu_los_days', 'weight', 'creatinine_apache',\n",
       "       'glucose_apache', 'heart_rate_apache', 'hematocrit_apache',\n",
       "       'd1_diasbp_max', 'd1_diasbp_min', 'd1_heartrate_min', 'd1_spo2_min',\n",
       "       'd1_sysbp_max', 'd1_sysbp_min', 'd1_temp_max', 'd1_temp_min',\n",
       "       'h1_sysbp_max', 'd1_glucose_min', 'd1_hco3_min', 'd1_platelets_max',\n",
       "       'd1_potassium_min', 'd1_sodium_max', 'd1_wbc_max',\n",
       "       'apache_4a_hospital_death_prob', 'apache_4a_icu_death_prob'],\n",
       "      dtype='object')"
      ]
     },
     "execution_count": 186,
     "metadata": {},
     "output_type": "execute_result"
    }
   ],
   "source": [
    "red_dataset.columns"
   ]
  }
 ],
 "metadata": {
  "kernelspec": {
   "display_name": "Python 3",
   "language": "python",
   "name": "python3"
  },
  "language_info": {
   "codemirror_mode": {
    "name": "ipython",
    "version": 3
   },
   "file_extension": ".py",
   "mimetype": "text/x-python",
   "name": "python",
   "nbconvert_exporter": "python",
   "pygments_lexer": "ipython3",
   "version": "3.8.8"
  }
 },
 "nbformat": 4,
 "nbformat_minor": 5
}
